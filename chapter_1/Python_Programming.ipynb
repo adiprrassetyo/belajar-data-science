{
  "nbformat": 4,
  "nbformat_minor": 0,
  "metadata": {
    "colab": {
      "provenance": [],
      "collapsed_sections": [
        "upC0iy_TCzvv",
        "PT_PJDU2Ayfk",
        "yNbPOp6fCcCW",
        "Jv6wkPWXDTqf",
        "QPAuc2-MD2l2",
        "xSRh58ToE2Ry",
        "MR78Jmw4Ff3m",
        "RzTHohopFt-1",
        "gib1iq08HQ_2",
        "Vny5H-skRgoq",
        "EurVCPL3brBn",
        "Cc1QIioBb5eU",
        "6EjhYLLkcD3P",
        "FTknlTKSSqNx",
        "ZaU3lfhnTVBH"
      ]
    },
    "kernelspec": {
      "name": "python3",
      "display_name": "Python 3"
    },
    "language_info": {
      "name": "python"
    }
  },
  "cells": [
    {
      "cell_type": "markdown",
      "source": [
        "# Variable"
      ],
      "metadata": {
        "id": "LYe1iB-U-vLJ"
      }
    },
    {
      "cell_type": "markdown",
      "source": [
        "Suatu entitas yang digunakan untuk menyimpan data pada sebuah memori"
      ],
      "metadata": {
        "id": "YksgEptd2CEi"
      }
    },
    {
      "cell_type": "code",
      "source": [
        "# Nama variable tidak dapat dimulai dengan angka atau karakter spesial\n",
        "nama_variable = 4"
      ],
      "metadata": {
        "id": "5of2TSdf-zFD"
      },
      "execution_count": null,
      "outputs": []
    },
    {
      "cell_type": "code",
      "source": [
        "# Cara untuk mendeklarasikan Variable sebagai berikut\n",
        "a = \"Dika\"\n",
        "b = \"Ikhwan\"\n",
        "c = 17"
      ],
      "metadata": {
        "id": "PrFeO5eb2KJC"
      },
      "execution_count": null,
      "outputs": []
    },
    {
      "cell_type": "code",
      "source": [
        "# Untuk mencetak atau melihat isi variable berikut bisa menggunakan perintah \"print\" seperti berikut\n",
        "print(a)"
      ],
      "metadata": {
        "colab": {
          "base_uri": "https://localhost:8080/"
        },
        "id": "wAxE_-Oo2Ml5",
        "outputId": "0371c9af-f3d8-44ef-aa68-052ae9e25d32"
      },
      "execution_count": null,
      "outputs": [
        {
          "output_type": "stream",
          "name": "stdout",
          "text": [
            "Dika\n"
          ]
        }
      ]
    },
    {
      "cell_type": "code",
      "source": [
        "nama_variable * 8"
      ],
      "metadata": {
        "colab": {
          "base_uri": "https://localhost:8080/"
        },
        "id": "k5XUIQc8-57j",
        "outputId": "6bea8978-b3d6-438f-a7f8-a22ee884cef6"
      },
      "execution_count": null,
      "outputs": [
        {
          "output_type": "execute_result",
          "data": {
            "text/plain": [
              "32"
            ]
          },
          "metadata": {},
          "execution_count": 61
        }
      ]
    },
    {
      "cell_type": "markdown",
      "source": [
        "# Print method\n",
        "Cara atau metode untuk mencetak hasil coding"
      ],
      "metadata": {
        "id": "PBUpTAyJ_4Yl"
      }
    },
    {
      "cell_type": "code",
      "source": [
        "nama_print = 'halo'"
      ],
      "metadata": {
        "id": "aEhvsb_Z_ohK"
      },
      "execution_count": null,
      "outputs": []
    },
    {
      "cell_type": "code",
      "source": [
        "nama_print"
      ],
      "metadata": {
        "colab": {
          "base_uri": "https://localhost:8080/",
          "height": 35
        },
        "id": "ydo924nj_8l0",
        "outputId": "bbdc8c52-1399-498b-b3c7-c7006cde2ec8"
      },
      "execution_count": null,
      "outputs": [
        {
          "output_type": "execute_result",
          "data": {
            "text/plain": [
              "'halo'"
            ],
            "application/vnd.google.colaboratory.intrinsic+json": {
              "type": "string"
            }
          },
          "metadata": {},
          "execution_count": 53
        }
      ]
    },
    {
      "cell_type": "code",
      "source": [
        "print(nama_print)"
      ],
      "metadata": {
        "colab": {
          "base_uri": "https://localhost:8080/"
        },
        "id": "nTtacsnk_-C0",
        "outputId": "198fd3cb-1c05-4447-8537-4b13a9a75352"
      },
      "execution_count": null,
      "outputs": [
        {
          "output_type": "stream",
          "name": "stdout",
          "text": [
            "halo\n"
          ]
        }
      ]
    },
    {
      "cell_type": "code",
      "source": [
        "variable_umur = 27\n",
        "variable_nama = 'Sam'"
      ],
      "metadata": {
        "id": "FkKCixvx__UN"
      },
      "execution_count": null,
      "outputs": []
    },
    {
      "cell_type": "code",
      "source": [
        "print('Umur saya: {one}, dan nama saya: {two}'.format(one=variable_umur,two=variable_nama))"
      ],
      "metadata": {
        "colab": {
          "base_uri": "https://localhost:8080/"
        },
        "id": "Qcp0GZVAXEzJ",
        "outputId": "7d9333b9-3453-4ff1-fa8b-71114a36593e"
      },
      "execution_count": null,
      "outputs": [
        {
          "output_type": "stream",
          "name": "stdout",
          "text": [
            "Umur saya: 27, dan nama saya: Sam\n"
          ]
        }
      ]
    },
    {
      "cell_type": "code",
      "source": [
        "print('Umur saya: {}, dan nama saya: {}'.format(variable_umur,variable_nama))"
      ],
      "metadata": {
        "colab": {
          "base_uri": "https://localhost:8080/"
        },
        "id": "LN483GgLXMpg",
        "outputId": "ea8feb63-9e72-4feb-a2d3-d519a781cba3"
      },
      "execution_count": null,
      "outputs": [
        {
          "output_type": "stream",
          "name": "stdout",
          "text": [
            "Umur saya: 27, dan nama saya: Sam\n"
          ]
        }
      ]
    },
    {
      "cell_type": "markdown",
      "source": [
        "# Tipe Data"
      ],
      "metadata": {
        "id": "grkX0_978TlR"
      }
    },
    {
      "cell_type": "markdown",
      "source": [
        "Python memiliki beberapa tipe data, diantaranya:\n",
        "\n",
        "Integer (1)\n",
        "Float (1.0)\n",
        "String (\"Satu\")\n",
        "Boolean (True/False)"
      ],
      "metadata": {
        "id": "qXEKVlwWzjUl"
      }
    },
    {
      "cell_type": "code",
      "source": [
        "'karakter string'"
      ],
      "metadata": {
        "colab": {
          "base_uri": "https://localhost:8080/",
          "height": 35
        },
        "id": "U_Yy_1wc_EKJ",
        "outputId": "e97ec14e-e440-469a-d5a4-b4136279e471"
      },
      "execution_count": null,
      "outputs": [
        {
          "output_type": "execute_result",
          "data": {
            "text/plain": [
              "'karakter string'"
            ],
            "application/vnd.google.colaboratory.intrinsic+json": {
              "type": "string"
            }
          },
          "metadata": {},
          "execution_count": 47
        }
      ]
    },
    {
      "cell_type": "code",
      "source": [
        "'kutip satu'"
      ],
      "metadata": {
        "colab": {
          "base_uri": "https://localhost:8080/",
          "height": 35
        },
        "id": "Sq0TKYwB_enk",
        "outputId": "e5fa8667-675d-494e-9363-45566f72b48e"
      },
      "execution_count": null,
      "outputs": [
        {
          "output_type": "execute_result",
          "data": {
            "text/plain": [
              "'kutip satu'"
            ],
            "application/vnd.google.colaboratory.intrinsic+json": {
              "type": "string"
            }
          },
          "metadata": {},
          "execution_count": 48
        }
      ]
    },
    {
      "cell_type": "code",
      "source": [
        "\"kutip dua\""
      ],
      "metadata": {
        "colab": {
          "base_uri": "https://localhost:8080/",
          "height": 35
        },
        "id": "EjSmCTgbV0o_",
        "outputId": "89dda432-0c78-433b-9ddb-c8b21b42b04a"
      },
      "execution_count": null,
      "outputs": [
        {
          "output_type": "execute_result",
          "data": {
            "text/plain": [
              "'kutip dua'"
            ],
            "application/vnd.google.colaboratory.intrinsic+json": {
              "type": "string"
            }
          },
          "metadata": {},
          "execution_count": 49
        }
      ]
    },
    {
      "cell_type": "code",
      "source": [
        "nama_variable_string = \"\"\"\n",
        "abcd\n",
        "efgh\n",
        "ijkl\n",
        "\"\"\"\n",
        "print(nama_variable_string)"
      ],
      "metadata": {
        "colab": {
          "base_uri": "https://localhost:8080/"
        },
        "id": "27X-KopWWBwe",
        "outputId": "7803d362-67f4-4fa8-c003-c4c05acf4cbb"
      },
      "execution_count": null,
      "outputs": [
        {
          "output_type": "stream",
          "name": "stdout",
          "text": [
            "\n",
            "abcd\n",
            "efgh\n",
            "ijkl\n",
            "\n"
          ]
        }
      ]
    },
    {
      "cell_type": "code",
      "source": [
        "satu_int = 1\n",
        "satu_float = 1.0\n",
        "satu_str = '1'\n",
        "boolean = True\n",
        "\n",
        "# print(satu_int)\n",
        "# print(satu_float)\n",
        "# print(satu_str)\n",
        "\n",
        "print(type(boolean))"
      ],
      "metadata": {
        "colab": {
          "base_uri": "https://localhost:8080/"
        },
        "id": "7xXYUm_Lztt8",
        "outputId": "7fd95fb3-30c2-4836-9544-da114e623623"
      },
      "execution_count": null,
      "outputs": [
        {
          "output_type": "stream",
          "name": "stdout",
          "text": [
            "<class 'bool'>\n"
          ]
        }
      ]
    },
    {
      "cell_type": "markdown",
      "source": [
        "**String To Integer**"
      ],
      "metadata": {
        "id": "SHYmBcIi0K5o"
      }
    },
    {
      "cell_type": "code",
      "source": [
        "age = 10\n",
        "print(\"Umur saya \" + str(age))"
      ],
      "metadata": {
        "colab": {
          "base_uri": "https://localhost:8080/"
        },
        "id": "aMPwSdUJPEDA",
        "outputId": "adfb6fca-439c-469e-a051-76e508e4575e"
      },
      "execution_count": null,
      "outputs": [
        {
          "output_type": "stream",
          "name": "stdout",
          "text": [
            "Umur saya 10\n"
          ]
        }
      ]
    },
    {
      "cell_type": "code",
      "source": [
        "satu_str = \"1\"\n",
        "string_to_int = int(satu_str)"
      ],
      "metadata": {
        "id": "lvhzPD5xRQaz"
      },
      "execution_count": null,
      "outputs": []
    },
    {
      "cell_type": "code",
      "source": [
        "print(string_to_int)"
      ],
      "metadata": {
        "colab": {
          "base_uri": "https://localhost:8080/"
        },
        "id": "-2rVXWpxRjoS",
        "outputId": "6419ac8e-d08d-4b8b-e2de-d5c6d68b4e39"
      },
      "execution_count": null,
      "outputs": [
        {
          "output_type": "stream",
          "name": "stdout",
          "text": [
            "1\n"
          ]
        }
      ]
    },
    {
      "cell_type": "markdown",
      "source": [
        "**String Processing**"
      ],
      "metadata": {
        "id": "OXGvOQe4SkJi"
      }
    },
    {
      "cell_type": "code",
      "source": [
        "string = \"halo aku ari\"\n",
        "\n",
        "# print(len(string))\n",
        "# print(string.index('ari'))\n",
        "# print(string.split(' '))\n",
        "# print(string.lower())\n",
        "# print(string.upper())\n",
        "# print(string.capitalize())"
      ],
      "metadata": {
        "id": "gpcp4YXNSmEx"
      },
      "execution_count": null,
      "outputs": []
    },
    {
      "cell_type": "code",
      "source": [
        "print(string.lower())"
      ],
      "metadata": {
        "colab": {
          "base_uri": "https://localhost:8080/"
        },
        "id": "KxKT0j0KS-YC",
        "outputId": "945293da-1074-4d5b-a03c-7fd011c441f3"
      },
      "execution_count": null,
      "outputs": [
        {
          "output_type": "stream",
          "name": "stdout",
          "text": [
            "halo aku ari\n"
          ]
        }
      ]
    },
    {
      "cell_type": "markdown",
      "source": [
        "**String Indexing**"
      ],
      "metadata": {
        "id": "tSPuNGGOTb0B"
      }
    },
    {
      "cell_type": "code",
      "source": [
        "string = \"Halo aku ari\"\n",
        "\n",
        "# print(string[0])\n",
        "# print(string[2:])\n",
        "# print(string[:6])\n",
        "# print(string[0:4])\n",
        "# print(string[:])"
      ],
      "metadata": {
        "id": "6kJ0tlMiTap4"
      },
      "execution_count": null,
      "outputs": []
    },
    {
      "cell_type": "code",
      "source": [
        "print(string[0])"
      ],
      "metadata": {
        "colab": {
          "base_uri": "https://localhost:8080/"
        },
        "id": "KNLRob2mTmpw",
        "outputId": "22a85d67-d9d1-48db-bff8-4d7c63997f9d"
      },
      "execution_count": null,
      "outputs": [
        {
          "output_type": "stream",
          "name": "stdout",
          "text": [
            "H\n"
          ]
        }
      ]
    },
    {
      "cell_type": "markdown",
      "source": [
        "# Boolean"
      ],
      "metadata": {
        "id": "upC0iy_TCzvv"
      }
    },
    {
      "cell_type": "code",
      "source": [
        "True"
      ],
      "metadata": {
        "colab": {
          "base_uri": "https://localhost:8080/"
        },
        "id": "HTQhhpqfC28q",
        "outputId": "06bae0f5-462e-419c-fc47-5ad110776741"
      },
      "execution_count": null,
      "outputs": [
        {
          "output_type": "execute_result",
          "data": {
            "text/plain": [
              "True"
            ]
          },
          "metadata": {},
          "execution_count": 53
        }
      ]
    },
    {
      "cell_type": "code",
      "source": [
        "False"
      ],
      "metadata": {
        "colab": {
          "base_uri": "https://localhost:8080/"
        },
        "id": "Qhy3aT-OC3dX",
        "outputId": "d498b058-a9a6-49d4-9d6a-35537e57ac16"
      },
      "execution_count": null,
      "outputs": [
        {
          "output_type": "execute_result",
          "data": {
            "text/plain": [
              "False"
            ]
          },
          "metadata": {},
          "execution_count": 54
        }
      ]
    },
    {
      "cell_type": "code",
      "source": [],
      "metadata": {
        "id": "fRL_9glCX3s2"
      },
      "execution_count": null,
      "outputs": []
    },
    {
      "cell_type": "markdown",
      "source": [
        "Operasi Numerik"
      ],
      "metadata": {
        "id": "mPZuFKCg8div"
      }
    },
    {
      "cell_type": "code",
      "source": [
        "# Penambahan\n",
        "28 + 18"
      ],
      "metadata": {
        "colab": {
          "base_uri": "https://localhost:8080/"
        },
        "id": "S5VmXbYq8j8v",
        "outputId": "58b6b470-1444-4f4a-b5b5-babffa525a5a"
      },
      "execution_count": null,
      "outputs": [
        {
          "output_type": "execute_result",
          "data": {
            "text/plain": [
              "46"
            ]
          },
          "metadata": {},
          "execution_count": 1
        }
      ]
    },
    {
      "cell_type": "code",
      "source": [
        "# Pengurangan\n",
        "90 - 17"
      ],
      "metadata": {
        "colab": {
          "base_uri": "https://localhost:8080/"
        },
        "id": "kdrhIpYk8oaU",
        "outputId": "709dda7c-8688-4c08-91aa-b51535a131ff"
      },
      "execution_count": null,
      "outputs": [
        {
          "output_type": "execute_result",
          "data": {
            "text/plain": [
              "73"
            ]
          },
          "metadata": {},
          "execution_count": 4
        }
      ]
    },
    {
      "cell_type": "code",
      "source": [
        "# Perkalian\n",
        "1 * 3"
      ],
      "metadata": {
        "colab": {
          "base_uri": "https://localhost:8080/"
        },
        "id": "W35AWgi38pig",
        "outputId": "19852392-c9f7-448f-a00e-bb661efc088b"
      },
      "execution_count": null,
      "outputs": [
        {
          "output_type": "execute_result",
          "data": {
            "text/plain": [
              "3"
            ]
          },
          "metadata": {},
          "execution_count": 5
        }
      ]
    },
    {
      "cell_type": "code",
      "source": [
        "# Pembagian\n",
        "7 / 3"
      ],
      "metadata": {
        "colab": {
          "base_uri": "https://localhost:8080/"
        },
        "id": "FWImCVvj8sVX",
        "outputId": "298020c4-d8d6-451b-c578-af43754e0710"
      },
      "execution_count": null,
      "outputs": [
        {
          "output_type": "execute_result",
          "data": {
            "text/plain": [
              "2.3333333333333335"
            ]
          },
          "metadata": {},
          "execution_count": 6
        }
      ]
    },
    {
      "cell_type": "code",
      "source": [
        "# Pembagian integer (pembulantan)\n",
        "7 // 3"
      ],
      "metadata": {
        "colab": {
          "base_uri": "https://localhost:8080/"
        },
        "id": "yEKq45aM8tA_",
        "outputId": "452769fa-f02a-409d-ee87-d1ea06375a5e"
      },
      "execution_count": null,
      "outputs": [
        {
          "output_type": "execute_result",
          "data": {
            "text/plain": [
              "2"
            ]
          },
          "metadata": {},
          "execution_count": 7
        }
      ]
    },
    {
      "cell_type": "code",
      "source": [
        "# Pangkat\n",
        "2 ** 3"
      ],
      "metadata": {
        "colab": {
          "base_uri": "https://localhost:8080/"
        },
        "id": "hZZ3CE8V8wkK",
        "outputId": "5d1273c3-dc06-4b6e-ae7c-7227bc157ee7"
      },
      "execution_count": null,
      "outputs": [
        {
          "output_type": "execute_result",
          "data": {
            "text/plain": [
              "8"
            ]
          },
          "metadata": {},
          "execution_count": 8
        }
      ]
    },
    {
      "cell_type": "code",
      "source": [
        "# Pembagian Sisa\n",
        "5 % 2"
      ],
      "metadata": {
        "colab": {
          "base_uri": "https://localhost:8080/"
        },
        "id": "wlCSs1bg9PN2",
        "outputId": "b1331240-cc9b-40e5-8b74-5615f75ff79e"
      },
      "execution_count": null,
      "outputs": [
        {
          "output_type": "execute_result",
          "data": {
            "text/plain": [
              "1"
            ]
          },
          "metadata": {},
          "execution_count": 9
        }
      ]
    },
    {
      "cell_type": "code",
      "source": [
        "(6 + 7) * (10 + 5)"
      ],
      "metadata": {
        "colab": {
          "base_uri": "https://localhost:8080/"
        },
        "id": "1UzdB4JK9Ttm",
        "outputId": "e4588439-4344-4482-e921-d471ef872834"
      },
      "execution_count": null,
      "outputs": [
        {
          "output_type": "execute_result",
          "data": {
            "text/plain": [
              "195"
            ]
          },
          "metadata": {},
          "execution_count": 10
        }
      ]
    },
    {
      "cell_type": "markdown",
      "source": [
        "**Assignment Operators digunakan ketika ingin menetapkan nilai dalam suatu variable**"
      ],
      "metadata": {
        "id": "WBJl0jIDT-T1"
      }
    },
    {
      "cell_type": "code",
      "source": [
        "x = 9\n",
        "# Perintah = digunakan untuk memasukkan nilai dalam suatu variabel"
      ],
      "metadata": {
        "id": "KUnj4vqC-7o3"
      },
      "execution_count": null,
      "outputs": []
    },
    {
      "cell_type": "code",
      "source": [
        "# Selanjutnya \"+=\", perintah ini untuk menambahkan nilai ke dalam variabel yang sudah ada\n",
        "x += 5\n",
        "\n",
        "print(x)"
      ],
      "metadata": {
        "colab": {
          "base_uri": "https://localhost:8080/"
        },
        "id": "ofGYdYJaVGWu",
        "outputId": "b4c3120d-9d8a-4acc-cb6d-d68d5071c2b2"
      },
      "execution_count": null,
      "outputs": [
        {
          "output_type": "stream",
          "name": "stdout",
          "text": [
            "14\n"
          ]
        }
      ]
    },
    {
      "cell_type": "code",
      "source": [
        "z = 8\n",
        "print(x+z)"
      ],
      "metadata": {
        "id": "znAXjFf__BB-",
        "colab": {
          "base_uri": "https://localhost:8080/"
        },
        "outputId": "a1caa324-d27f-4843-e04f-e30ca343a071"
      },
      "execution_count": null,
      "outputs": [
        {
          "output_type": "stream",
          "name": "stdout",
          "text": [
            "22\n"
          ]
        }
      ]
    },
    {
      "cell_type": "markdown",
      "source": [
        "# List"
      ],
      "metadata": {
        "id": "PT_PJDU2Ayfk"
      }
    },
    {
      "cell_type": "code",
      "source": [
        "[100, 200, 300]"
      ],
      "metadata": {
        "colab": {
          "base_uri": "https://localhost:8080/"
        },
        "id": "I5G490_UA0I4",
        "outputId": "54bf64b7-5239-4de0-dcbe-5682272b9ce7"
      },
      "execution_count": null,
      "outputs": [
        {
          "output_type": "execute_result",
          "data": {
            "text/plain": [
              "[100, 200, 300]"
            ]
          },
          "metadata": {},
          "execution_count": 32
        }
      ]
    },
    {
      "cell_type": "code",
      "source": [
        "['halo', 1, 1.25, [100, 200]]"
      ],
      "metadata": {
        "colab": {
          "base_uri": "https://localhost:8080/"
        },
        "id": "D0KGCce9A5o_",
        "outputId": "8d72df0c-46c2-4e52-cb5b-4469bd086d85"
      },
      "execution_count": null,
      "outputs": [
        {
          "output_type": "execute_result",
          "data": {
            "text/plain": [
              "['halo', 1, 1.25, [100, 200]]"
            ]
          },
          "metadata": {},
          "execution_count": 33
        }
      ]
    },
    {
      "cell_type": "code",
      "source": [
        "list_saya = ['a','b','c']"
      ],
      "metadata": {
        "id": "Cu4Ey8PbA-hx"
      },
      "execution_count": null,
      "outputs": []
    },
    {
      "cell_type": "code",
      "source": [
        "list_saya.append('d')"
      ],
      "metadata": {
        "id": "YyuFRVsRBA4Z"
      },
      "execution_count": null,
      "outputs": []
    },
    {
      "cell_type": "code",
      "source": [
        "list_saya"
      ],
      "metadata": {
        "colab": {
          "base_uri": "https://localhost:8080/"
        },
        "id": "-D6ccqinBD0c",
        "outputId": "e8f3ccf4-7eff-4acb-9ed3-c919205c173d"
      },
      "execution_count": null,
      "outputs": [
        {
          "output_type": "execute_result",
          "data": {
            "text/plain": [
              "['a', 'b', 'c', 'd']"
            ]
          },
          "metadata": {},
          "execution_count": 36
        }
      ]
    },
    {
      "cell_type": "code",
      "source": [
        "list_saya[0]"
      ],
      "metadata": {
        "colab": {
          "base_uri": "https://localhost:8080/"
        },
        "id": "rUDmLPrKBFL9",
        "outputId": "798ecef0-f595-49ea-ae65-1bc399648ffe"
      },
      "execution_count": null,
      "outputs": [
        {
          "output_type": "execute_result",
          "data": {
            "application/vnd.google.colaboratory.intrinsic+json": {
              "type": "string"
            },
            "text/plain": [
              "'a'"
            ]
          },
          "metadata": {},
          "execution_count": 37
        }
      ]
    },
    {
      "cell_type": "code",
      "source": [
        "list_saya[1]"
      ],
      "metadata": {
        "colab": {
          "base_uri": "https://localhost:8080/"
        },
        "id": "Xyj5B30CBXNc",
        "outputId": "54520da5-7f7b-404b-ace9-eeab27e1c533"
      },
      "execution_count": null,
      "outputs": [
        {
          "output_type": "execute_result",
          "data": {
            "application/vnd.google.colaboratory.intrinsic+json": {
              "type": "string"
            },
            "text/plain": [
              "'b'"
            ]
          },
          "metadata": {},
          "execution_count": 38
        }
      ]
    },
    {
      "cell_type": "code",
      "source": [
        "list_saya[1:3]"
      ],
      "metadata": {
        "colab": {
          "base_uri": "https://localhost:8080/"
        },
        "id": "s5Xe8JyjBZxC",
        "outputId": "6f5d5c95-e3d4-424e-a1bd-0b0b0057f589"
      },
      "execution_count": null,
      "outputs": [
        {
          "output_type": "execute_result",
          "data": {
            "text/plain": [
              "['b', 'c']"
            ]
          },
          "metadata": {},
          "execution_count": 39
        }
      ]
    },
    {
      "cell_type": "code",
      "source": [
        "list_saya[1:]"
      ],
      "metadata": {
        "colab": {
          "base_uri": "https://localhost:8080/"
        },
        "id": "Sg8v-fzZBaZ9",
        "outputId": "8a742de3-9c97-4485-d5d7-fe57dd5896cf"
      },
      "execution_count": null,
      "outputs": [
        {
          "output_type": "execute_result",
          "data": {
            "text/plain": [
              "['b', 'c', 'd']"
            ]
          },
          "metadata": {},
          "execution_count": 40
        }
      ]
    },
    {
      "cell_type": "code",
      "source": [
        "list_saya[0] = 'NEW'"
      ],
      "metadata": {
        "id": "Uo1dNGbfBc6v"
      },
      "execution_count": null,
      "outputs": []
    },
    {
      "cell_type": "code",
      "source": [
        "list_saya"
      ],
      "metadata": {
        "colab": {
          "base_uri": "https://localhost:8080/"
        },
        "id": "oteeB5lCBsE2",
        "outputId": "1e43e53e-a068-469a-8899-3d26de851fce"
      },
      "execution_count": null,
      "outputs": [
        {
          "output_type": "execute_result",
          "data": {
            "text/plain": [
              "['NEW', 'b', 'c', 'd']"
            ]
          },
          "metadata": {},
          "execution_count": 42
        }
      ]
    },
    {
      "cell_type": "code",
      "source": [
        "nested_list = [1, 2, 3, [4, 5, ['target']]]"
      ],
      "metadata": {
        "id": "-OKeVvEnBsqA"
      },
      "execution_count": null,
      "outputs": []
    },
    {
      "cell_type": "code",
      "source": [
        "nested_list[3]"
      ],
      "metadata": {
        "colab": {
          "base_uri": "https://localhost:8080/"
        },
        "id": "jrJxk0BdB1Pm",
        "outputId": "51321f10-8607-4f6b-8889-7602a480ff62"
      },
      "execution_count": null,
      "outputs": [
        {
          "output_type": "execute_result",
          "data": {
            "text/plain": [
              "[4, 5, ['target']]"
            ]
          },
          "metadata": {},
          "execution_count": 44
        }
      ]
    },
    {
      "cell_type": "code",
      "source": [
        "nested_list[3][2]"
      ],
      "metadata": {
        "colab": {
          "base_uri": "https://localhost:8080/"
        },
        "id": "AarxH48OB3G0",
        "outputId": "caad2e6e-9a56-42f2-d751-51c187c98b56"
      },
      "execution_count": null,
      "outputs": [
        {
          "output_type": "execute_result",
          "data": {
            "text/plain": [
              "['target']"
            ]
          },
          "metadata": {},
          "execution_count": 45
        }
      ]
    },
    {
      "cell_type": "code",
      "source": [
        "nested_list[3][2][0]"
      ],
      "metadata": {
        "colab": {
          "base_uri": "https://localhost:8080/"
        },
        "id": "0z8L7cOCB45S",
        "outputId": "90fb1ec6-c73e-4f3a-d8d6-d5644ce0bb7f"
      },
      "execution_count": null,
      "outputs": [
        {
          "output_type": "execute_result",
          "data": {
            "application/vnd.google.colaboratory.intrinsic+json": {
              "type": "string"
            },
            "text/plain": [
              "'target'"
            ]
          },
          "metadata": {},
          "execution_count": 48
        }
      ]
    },
    {
      "cell_type": "markdown",
      "source": [
        "# Dictionaries"
      ],
      "metadata": {
        "id": "yNbPOp6fCcCW"
      }
    },
    {
      "cell_type": "code",
      "source": [
        "dictionary = {'key1':'item1', 2:1}"
      ],
      "metadata": {
        "id": "-z2P5DTpCfS6"
      },
      "execution_count": null,
      "outputs": []
    },
    {
      "cell_type": "code",
      "source": [
        "dictionary"
      ],
      "metadata": {
        "colab": {
          "base_uri": "https://localhost:8080/"
        },
        "id": "5ORdWO3HCio0",
        "outputId": "8f2dbc55-e4c1-47e6-bcaa-e72619de04b5"
      },
      "execution_count": null,
      "outputs": [
        {
          "output_type": "execute_result",
          "data": {
            "text/plain": [
              "{'key1': 'item1', 2: 1}"
            ]
          },
          "metadata": {},
          "execution_count": 81
        }
      ]
    },
    {
      "cell_type": "code",
      "source": [
        "dictionary['key1']"
      ],
      "metadata": {
        "colab": {
          "base_uri": "https://localhost:8080/",
          "height": 35
        },
        "id": "bjihiMv9CkPF",
        "outputId": "9158b1f7-31cd-4db8-9b53-1af328c66ab5"
      },
      "execution_count": null,
      "outputs": [
        {
          "output_type": "execute_result",
          "data": {
            "text/plain": [
              "'item1'"
            ],
            "application/vnd.google.colaboratory.intrinsic+json": {
              "type": "string"
            }
          },
          "metadata": {},
          "execution_count": 82
        }
      ]
    },
    {
      "cell_type": "code",
      "source": [
        "dictionary.keys()"
      ],
      "metadata": {
        "colab": {
          "base_uri": "https://localhost:8080/"
        },
        "id": "4dnZTiOSClzO",
        "outputId": "f5f71550-4c14-421a-d95e-9e21320f9481"
      },
      "execution_count": null,
      "outputs": [
        {
          "output_type": "execute_result",
          "data": {
            "text/plain": [
              "dict_keys(['key1', 2])"
            ]
          },
          "metadata": {},
          "execution_count": 52
        }
      ]
    },
    {
      "cell_type": "code",
      "source": [
        "# Dictionaries dengan nilai kosong\n",
        "my_dict = {}\n",
        "print(my_dict)"
      ],
      "metadata": {
        "colab": {
          "base_uri": "https://localhost:8080/"
        },
        "id": "J6mQyv1tZusW",
        "outputId": "68947888-6c15-40a5-bb4e-55803e731364"
      },
      "execution_count": null,
      "outputs": [
        {
          "output_type": "stream",
          "name": "stdout",
          "text": [
            "{}\n"
          ]
        }
      ]
    },
    {
      "cell_type": "code",
      "source": [
        "# Menambahkan data ke Dictionaries\n",
        "my_dict['name'] = 'Ari'\n",
        "my_dict['age'] = 30\n",
        "print(my_dict)"
      ],
      "metadata": {
        "colab": {
          "base_uri": "https://localhost:8080/"
        },
        "id": "IEL45nRsZ0lg",
        "outputId": "56c097dc-5ff8-469f-865b-ac347c4407a0"
      },
      "execution_count": null,
      "outputs": [
        {
          "output_type": "stream",
          "name": "stdout",
          "text": [
            "{'name': 'Ari', 'age': 30}\n"
          ]
        }
      ]
    },
    {
      "cell_type": "code",
      "source": [
        "# Mengedit data dari Dictionaries\n",
        "my_dict['age'] = 25\n",
        "print(my_dict['age'])"
      ],
      "metadata": {
        "colab": {
          "base_uri": "https://localhost:8080/"
        },
        "id": "Ng_xJ2JnZ3jI",
        "outputId": "1d1265cd-3f75-4a66-e11f-be9387255904"
      },
      "execution_count": null,
      "outputs": [
        {
          "output_type": "stream",
          "name": "stdout",
          "text": [
            "25\n"
          ]
        }
      ]
    },
    {
      "cell_type": "code",
      "source": [
        "# Mengakses data dari Dictionaries\n",
        "print(my_dict['name'])\n",
        "print(my_dict['age'])"
      ],
      "metadata": {
        "colab": {
          "base_uri": "https://localhost:8080/"
        },
        "id": "A_72dCDWaBWf",
        "outputId": "771ea2cc-ec5e-457e-ae8f-89ae917f15f1"
      },
      "execution_count": null,
      "outputs": [
        {
          "output_type": "stream",
          "name": "stdout",
          "text": [
            "Ari\n",
            "25\n"
          ]
        }
      ]
    },
    {
      "cell_type": "code",
      "source": [
        "# Menghapus data dari Dictionaries\n",
        "del my_dict['age']\n",
        "print(my_dict)"
      ],
      "metadata": {
        "colab": {
          "base_uri": "https://localhost:8080/"
        },
        "id": "rw49yAGraD_t",
        "outputId": "de94ee7a-3811-499b-be47-afb832ac981d"
      },
      "execution_count": null,
      "outputs": [
        {
          "output_type": "stream",
          "name": "stdout",
          "text": [
            "{'name': 'Ari'}\n"
          ]
        }
      ]
    },
    {
      "cell_type": "code",
      "source": [
        "# Dictionary dengan keys Integer dan String\n",
        "# my_dict = {'name': 'John', 'grade': [2, 4, 3]}\n",
        "\n",
        "data = {'students':\n",
        "          [{\n",
        "            'name': 'Ari',\n",
        "            'age': 20\n",
        "          },\n",
        "          {\n",
        "            'name': 'Bima',\n",
        "            'age': 25\n",
        "          },\n",
        "          {\n",
        "            'name': 'Yafi',\n",
        "            'age': 29\n",
        "          }]\n",
        "        }"
      ],
      "metadata": {
        "id": "2fEQDkrpaJBK"
      },
      "execution_count": null,
      "outputs": []
    },
    {
      "cell_type": "code",
      "source": [
        "print(data['students'])\n",
        "data['students'][0] = {'name': 'Dika', 'age': 20}\n",
        "print(data['students'])"
      ],
      "metadata": {
        "colab": {
          "base_uri": "https://localhost:8080/"
        },
        "id": "vBg0-A15aS41",
        "outputId": "24458a0d-c5b6-4811-dfc7-6dad7759fd95"
      },
      "execution_count": null,
      "outputs": [
        {
          "output_type": "stream",
          "name": "stdout",
          "text": [
            "[{'name': 'Ari', 'age': 20}, {'name': 'Bima', 'age': 25}, {'name': 'Yafi', 'age': 29}]\n",
            "[{'name': 'Dika', 'age': 20}, {'name': 'Bima', 'age': 25}, {'name': 'Yafi', 'age': 29}]\n"
          ]
        }
      ]
    },
    {
      "cell_type": "code",
      "source": [
        "print(data)\n",
        "data['students'] = 'halo halo'\n",
        "print(data)"
      ],
      "metadata": {
        "colab": {
          "base_uri": "https://localhost:8080/"
        },
        "id": "EemfDASnaU8m",
        "outputId": "54af51b8-435b-44a8-dad2-ca21e5d3279a"
      },
      "execution_count": null,
      "outputs": [
        {
          "output_type": "stream",
          "name": "stdout",
          "text": [
            "{'students': [{'name': 'Dika', 'age': 20}, {'name': 'Bima', 'age': 25}, {'name': 'Yafi', 'age': 29}]}\n",
            "{'students': 'halo halo'}\n"
          ]
        }
      ]
    },
    {
      "cell_type": "markdown",
      "source": [
        "# Tuples"
      ],
      "metadata": {
        "id": "Jv6wkPWXDTqf"
      }
    },
    {
      "cell_type": "code",
      "source": [
        "tuple_standard = (1, 2, 3)"
      ],
      "metadata": {
        "id": "EiPLTnK0DVfM"
      },
      "execution_count": null,
      "outputs": []
    },
    {
      "cell_type": "code",
      "source": [
        "tuple_standard[0]"
      ],
      "metadata": {
        "colab": {
          "base_uri": "https://localhost:8080/"
        },
        "id": "Zh8yyly2Dgl7",
        "outputId": "e08b7122-d35b-4bad-a564-c81c25f6ccb2"
      },
      "execution_count": null,
      "outputs": [
        {
          "output_type": "execute_result",
          "data": {
            "text/plain": [
              "1"
            ]
          },
          "metadata": {},
          "execution_count": 64
        }
      ]
    },
    {
      "cell_type": "code",
      "source": [
        "# Tuples dengan nilai kosong\n",
        "my_tuples = ()\n",
        "print(my_tuples)"
      ],
      "metadata": {
        "colab": {
          "base_uri": "https://localhost:8080/"
        },
        "id": "oQenIMWnY3cX",
        "outputId": "c4858ebe-7ad8-415b-f03f-5ff1f5c10302"
      },
      "execution_count": null,
      "outputs": [
        {
          "output_type": "stream",
          "name": "stdout",
          "text": [
            "()\n"
          ]
        }
      ]
    },
    {
      "cell_type": "code",
      "source": [
        "# Tuples dengan nilai integer dan string\n",
        "my_tuples = (1, \"toni\", 3)\n",
        "print(my_tuples)"
      ],
      "metadata": {
        "colab": {
          "base_uri": "https://localhost:8080/"
        },
        "id": "pI0Bdoh0Y65e",
        "outputId": "467c2f7f-99b8-4339-b7f4-cd7cd3497f21"
      },
      "execution_count": null,
      "outputs": [
        {
          "output_type": "stream",
          "name": "stdout",
          "text": [
            "(1, 'toni', 3)\n"
          ]
        }
      ]
    },
    {
      "cell_type": "markdown",
      "source": [
        "# Sets"
      ],
      "metadata": {
        "id": "QPAuc2-MD2l2"
      }
    },
    {
      "cell_type": "code",
      "source": [
        "# Mengambil nilai unik dari kumpulan data integer\n",
        "my_set = {1, 2, 3, 3}\n",
        "print(my_set)"
      ],
      "metadata": {
        "colab": {
          "base_uri": "https://localhost:8080/"
        },
        "id": "Bhwpb36LZE2V",
        "outputId": "b3d2f496-59bf-459f-da35-9e56046975e6"
      },
      "execution_count": null,
      "outputs": [
        {
          "output_type": "stream",
          "name": "stdout",
          "text": [
            "{1, 2, 3}\n"
          ]
        }
      ]
    },
    {
      "cell_type": "code",
      "source": [
        "variable_set = {2, 3, 1, 2, 1, 2, 3, 3, 3, 3, 2, 2, 2, 1, 1, 2}\n",
        "variable_set"
      ],
      "metadata": {
        "colab": {
          "base_uri": "https://localhost:8080/"
        },
        "id": "SjRWC83WD7Ck",
        "outputId": "2e957717-89dd-4abf-c8fe-821cdcf357fc"
      },
      "execution_count": null,
      "outputs": [
        {
          "output_type": "execute_result",
          "data": {
            "text/plain": [
              "{1, 2, 3}"
            ]
          },
          "metadata": {},
          "execution_count": 74
        }
      ]
    },
    {
      "cell_type": "code",
      "source": [
        "# Mengambil nilai unik dari kumpulan data string\n",
        "my_set = {'ari', 'ikhwan', 'ikhwan', 'afif', 'afif', 'afif'}\n",
        "print(my_set)"
      ],
      "metadata": {
        "colab": {
          "base_uri": "https://localhost:8080/"
        },
        "id": "4t0HoKMxZQEK",
        "outputId": "01a70450-8baf-4fa3-92fb-2e27d15b62b7"
      },
      "execution_count": null,
      "outputs": [
        {
          "output_type": "stream",
          "name": "stdout",
          "text": [
            "{'ari', 'ikhwan', 'afif'}\n"
          ]
        }
      ]
    },
    {
      "cell_type": "code",
      "source": [
        "# Set juga dapat dilakukan untuk mendapat nilai\n",
        "# unique dari suatu kumpulan list\n",
        "\n",
        "my_list = [\"eka\", \"akbar\", \"akbar\", \"ari\", \"eka\", \"lina\",\n",
        "           \"ilham\", \"lina\"]\n",
        "\n",
        "print(set(my_list))"
      ],
      "metadata": {
        "colab": {
          "base_uri": "https://localhost:8080/"
        },
        "id": "HPTbofCXZV-u",
        "outputId": "1a8cb4c3-9e73-4283-9b73-ca0bd9e52e15"
      },
      "execution_count": null,
      "outputs": [
        {
          "output_type": "stream",
          "name": "stdout",
          "text": [
            "{'lina', 'ari', 'eka', 'ilham', 'akbar'}\n"
          ]
        }
      ]
    },
    {
      "cell_type": "code",
      "source": [
        "variable_set.add(5)\n",
        "variable_set"
      ],
      "metadata": {
        "colab": {
          "base_uri": "https://localhost:8080/"
        },
        "id": "cLwSAkQXEJEK",
        "outputId": "4b0bcc47-e604-4ee4-8b87-239fd3b9a47d"
      },
      "execution_count": null,
      "outputs": [
        {
          "output_type": "execute_result",
          "data": {
            "text/plain": [
              "{1, 2, 3, 5}"
            ]
          },
          "metadata": {},
          "execution_count": 78
        }
      ]
    },
    {
      "cell_type": "code",
      "source": [
        "variable_set.pop()\n",
        "variable_set"
      ],
      "metadata": {
        "colab": {
          "base_uri": "https://localhost:8080/"
        },
        "id": "YPmPttkKEO6V",
        "outputId": "e9047079-310f-4760-e2e3-ce9036f25b2b"
      },
      "execution_count": null,
      "outputs": [
        {
          "output_type": "execute_result",
          "data": {
            "text/plain": [
              "{2, 3, 5}"
            ]
          },
          "metadata": {},
          "execution_count": 63
        }
      ]
    },
    {
      "cell_type": "markdown",
      "source": [
        "# Logika Komparasi"
      ],
      "metadata": {
        "id": "xSRh58ToE2Ry"
      }
    },
    {
      "cell_type": "code",
      "source": [
        "1 > 2"
      ],
      "metadata": {
        "colab": {
          "base_uri": "https://localhost:8080/"
        },
        "id": "Khe1aYRKE5eF",
        "outputId": "5fcf43cb-25af-43e7-b6eb-525c30c8b631"
      },
      "execution_count": null,
      "outputs": [
        {
          "output_type": "execute_result",
          "data": {
            "text/plain": [
              "False"
            ]
          },
          "metadata": {},
          "execution_count": 64
        }
      ]
    },
    {
      "cell_type": "code",
      "source": [
        "1 < 2"
      ],
      "metadata": {
        "colab": {
          "base_uri": "https://localhost:8080/"
        },
        "id": "OABm3q_gE6ej",
        "outputId": "987238b9-aa12-4410-d847-99dd35c01378"
      },
      "execution_count": null,
      "outputs": [
        {
          "output_type": "execute_result",
          "data": {
            "text/plain": [
              "True"
            ]
          },
          "metadata": {},
          "execution_count": 65
        }
      ]
    },
    {
      "cell_type": "code",
      "source": [
        "1 >= 1"
      ],
      "metadata": {
        "colab": {
          "base_uri": "https://localhost:8080/"
        },
        "id": "OxWkb5AgE7cH",
        "outputId": "3ae10dcf-9757-46d0-d950-24e63c2be8eb"
      },
      "execution_count": null,
      "outputs": [
        {
          "output_type": "execute_result",
          "data": {
            "text/plain": [
              "True"
            ]
          },
          "metadata": {},
          "execution_count": 66
        }
      ]
    },
    {
      "cell_type": "code",
      "source": [
        "1 == 1"
      ],
      "metadata": {
        "colab": {
          "base_uri": "https://localhost:8080/"
        },
        "id": "vVLsmVc-E8qo",
        "outputId": "d9024129-a039-4baa-a84c-bd1366e3700e"
      },
      "execution_count": null,
      "outputs": [
        {
          "output_type": "execute_result",
          "data": {
            "text/plain": [
              "True"
            ]
          },
          "metadata": {},
          "execution_count": 67
        }
      ]
    },
    {
      "cell_type": "code",
      "source": [
        "'halo' != 'sampai jumpa'"
      ],
      "metadata": {
        "colab": {
          "base_uri": "https://localhost:8080/"
        },
        "id": "57StJ1P4E9-i",
        "outputId": "2f0d5fde-4475-4c95-c5a2-71c05cce3a9f"
      },
      "execution_count": null,
      "outputs": [
        {
          "output_type": "execute_result",
          "data": {
            "text/plain": [
              "True"
            ]
          },
          "metadata": {},
          "execution_count": 68
        }
      ]
    },
    {
      "cell_type": "markdown",
      "source": [
        "# Operasi Logika"
      ],
      "metadata": {
        "id": "MR78Jmw4Ff3m"
      }
    },
    {
      "cell_type": "code",
      "source": [
        "(1 > 2) and (2 < 3)"
      ],
      "metadata": {
        "colab": {
          "base_uri": "https://localhost:8080/"
        },
        "id": "OPK_0q0MFhDO",
        "outputId": "1e26db6d-56a9-44bb-85b8-891e8fef6f59"
      },
      "execution_count": null,
      "outputs": [
        {
          "output_type": "execute_result",
          "data": {
            "text/plain": [
              "False"
            ]
          },
          "metadata": {},
          "execution_count": 69
        }
      ]
    },
    {
      "cell_type": "code",
      "source": [
        "(1 > 2) or (2 < 3)"
      ],
      "metadata": {
        "colab": {
          "base_uri": "https://localhost:8080/"
        },
        "id": "2k8u18izFhZa",
        "outputId": "098751bf-8298-4d6a-aa32-395c6f3b57c9"
      },
      "execution_count": null,
      "outputs": [
        {
          "output_type": "execute_result",
          "data": {
            "text/plain": [
              "True"
            ]
          },
          "metadata": {},
          "execution_count": 70
        }
      ]
    },
    {
      "cell_type": "code",
      "source": [
        "(1 == 2) or (2 == 3) or (4 == 4)"
      ],
      "metadata": {
        "colab": {
          "base_uri": "https://localhost:8080/"
        },
        "id": "RGZR8v5sFink",
        "outputId": "3d91de07-c2da-41f3-f984-bee1c7b198cd"
      },
      "execution_count": null,
      "outputs": [
        {
          "output_type": "execute_result",
          "data": {
            "text/plain": [
              "True"
            ]
          },
          "metadata": {},
          "execution_count": 71
        }
      ]
    },
    {
      "cell_type": "code",
      "source": [
        "not(1!=2)"
      ],
      "metadata": {
        "colab": {
          "base_uri": "https://localhost:8080/"
        },
        "id": "uux5QB0sFjjA",
        "outputId": "61ebe478-fcb7-4f05-d3b6-fa48a18071a3"
      },
      "execution_count": null,
      "outputs": [
        {
          "output_type": "execute_result",
          "data": {
            "text/plain": [
              "False"
            ]
          },
          "metadata": {},
          "execution_count": 72
        }
      ]
    },
    {
      "cell_type": "markdown",
      "source": [
        "# Statement if, elif, else"
      ],
      "metadata": {
        "id": "RzTHohopFt-1"
      }
    },
    {
      "cell_type": "code",
      "source": [
        "if 1 > 2:\n",
        "    print('Halo!')\n",
        "print('Test')"
      ],
      "metadata": {
        "colab": {
          "base_uri": "https://localhost:8080/"
        },
        "id": "Ux5rsZFVFzPc",
        "outputId": "4a9dcd22-d95b-496d-eb7a-8daedd7074d8"
      },
      "execution_count": null,
      "outputs": [
        {
          "output_type": "stream",
          "name": "stdout",
          "text": [
            "Test\n"
          ]
        }
      ]
    },
    {
      "cell_type": "code",
      "source": [
        "if 1 < 2:\n",
        "    print('Halo!')\n",
        "    print(1+2)\n",
        "    print('Hello World!')\n",
        "\n",
        "print('Test')"
      ],
      "metadata": {
        "colab": {
          "base_uri": "https://localhost:8080/"
        },
        "id": "suYjPfH5GMgv",
        "outputId": "2629af4d-c4d0-4272-b9e7-1bfd0e87d83e"
      },
      "execution_count": null,
      "outputs": [
        {
          "output_type": "stream",
          "name": "stdout",
          "text": [
            "Halo!\n",
            "3\n",
            "Hello World!\n",
            "Test\n"
          ]
        }
      ]
    },
    {
      "cell_type": "code",
      "source": [
        "if 1 < 2:\n",
        "    print('pertama')\n",
        "else:\n",
        "    print('terakhir')"
      ],
      "metadata": {
        "colab": {
          "base_uri": "https://localhost:8080/"
        },
        "id": "0Nj22gjdGRdb",
        "outputId": "b4ce59d8-adbe-4679-8995-cf7ec75a592b"
      },
      "execution_count": null,
      "outputs": [
        {
          "output_type": "stream",
          "name": "stdout",
          "text": [
            "pertama\n"
          ]
        }
      ]
    },
    {
      "cell_type": "code",
      "source": [
        "if 1 > 2:\n",
        "    print('pertama')\n",
        "else:\n",
        "    print('terakhir')"
      ],
      "metadata": {
        "colab": {
          "base_uri": "https://localhost:8080/"
        },
        "id": "m0rLSCyEGZAF",
        "outputId": "ec97df97-d431-42bd-b623-7ca0927eb513"
      },
      "execution_count": null,
      "outputs": [
        {
          "output_type": "stream",
          "name": "stdout",
          "text": [
            "terakhir\n"
          ]
        }
      ]
    },
    {
      "cell_type": "code",
      "source": [
        "if 1 == 2:\n",
        "    print('pertama')\n",
        "elif 3 == 3:\n",
        "    print('tengah')\n",
        "    if 1<2:\n",
        "        print('checking...')\n",
        "else:\n",
        "    print('terakhir')\n",
        "\n",
        "print('The End')"
      ],
      "metadata": {
        "colab": {
          "base_uri": "https://localhost:8080/"
        },
        "id": "nuqJbxrWGomf",
        "outputId": "1127bea3-f053-478a-8a56-32017c0c94f5"
      },
      "execution_count": null,
      "outputs": [
        {
          "output_type": "stream",
          "name": "stdout",
          "text": [
            "tengah\n",
            "checking...\n",
            "The End\n"
          ]
        }
      ]
    },
    {
      "cell_type": "code",
      "source": [
        "alamat = 'sleman'\n",
        "\n",
        "if alamat == 'jogja':\n",
        "   print('boleh masuk!')\n",
        "elif alamat == 'sleman':\n",
        "   print('hmm boleh lah..')\n",
        "else:\n",
        "   print('periksa dulu')"
      ],
      "metadata": {
        "colab": {
          "base_uri": "https://localhost:8080/"
        },
        "id": "ZE2wZh-3mIcn",
        "outputId": "50227ee0-5927-430c-cdd1-fe9cadc43e92"
      },
      "execution_count": null,
      "outputs": [
        {
          "output_type": "stream",
          "name": "stdout",
          "text": [
            "hmm boleh lah..\n"
          ]
        }
      ]
    },
    {
      "cell_type": "markdown",
      "source": [
        "# for Loops\n",
        "For Loop Statement digunakan untuk melakukan iterasi kumpulan data."
      ],
      "metadata": {
        "id": "gib1iq08HQ_2"
      }
    },
    {
      "cell_type": "code",
      "source": [
        "kumpulan_variable = [1, 2, 3, 4, 5]"
      ],
      "metadata": {
        "id": "SX_d_ingHY3x"
      },
      "execution_count": null,
      "outputs": []
    },
    {
      "cell_type": "code",
      "source": [
        "for item in kumpulan_variable:\n",
        "    print(item)\n",
        "    print('_____')"
      ],
      "metadata": {
        "colab": {
          "base_uri": "https://localhost:8080/"
        },
        "id": "WbWA6OklHca2",
        "outputId": "92382aa6-e5ab-4b41-c024-66f97d0ee905"
      },
      "execution_count": null,
      "outputs": [
        {
          "output_type": "stream",
          "name": "stdout",
          "text": [
            "1\n",
            "_____\n",
            "2\n",
            "_____\n",
            "3\n",
            "_____\n",
            "4\n",
            "_____\n",
            "5\n",
            "_____\n"
          ]
        }
      ]
    },
    {
      "cell_type": "code",
      "source": [
        "for item in kumpulan_variable:\n",
        "    print('Halo')"
      ],
      "metadata": {
        "colab": {
          "base_uri": "https://localhost:8080/"
        },
        "id": "VSMOtY86HeYQ",
        "outputId": "1bb64a5c-3433-4001-b9f4-978c555a0dca"
      },
      "execution_count": null,
      "outputs": [
        {
          "output_type": "stream",
          "name": "stdout",
          "text": [
            "Halo\n",
            "Halo\n",
            "Halo\n",
            "Halo\n",
            "Halo\n"
          ]
        }
      ]
    },
    {
      "cell_type": "code",
      "source": [
        "for cat in kumpulan_variable:\n",
        "    print(cat+cat)"
      ],
      "metadata": {
        "colab": {
          "base_uri": "https://localhost:8080/"
        },
        "id": "hMDwWNl5K5kt",
        "outputId": "b7a69b72-8662-4195-ea0d-13883b9c07f9"
      },
      "execution_count": null,
      "outputs": [
        {
          "output_type": "stream",
          "name": "stdout",
          "text": [
            "2\n",
            "4\n",
            "6\n",
            "8\n",
            "10\n"
          ]
        }
      ]
    },
    {
      "cell_type": "code",
      "source": [
        "names = [\"ari\", \"doni\", \"dino\"]\n",
        "\n",
        "for name in names:\n",
        "  print(name)"
      ],
      "metadata": {
        "colab": {
          "base_uri": "https://localhost:8080/"
        },
        "id": "49UG51VhnL6d",
        "outputId": "990d3eea-3123-41a3-f25e-017a2eed1209"
      },
      "execution_count": null,
      "outputs": [
        {
          "output_type": "stream",
          "name": "stdout",
          "text": [
            "ari\n",
            "doni\n",
            "dino\n"
          ]
        }
      ]
    },
    {
      "cell_type": "code",
      "source": [
        "sum = 0\n",
        "numbers = [6, 5, 3, 8, 4, 2]\n",
        "# Iterasi kumpulan data\n",
        "for number in numbers:\n",
        "  print(number)\n",
        "  sum = sum+number\n",
        "  print(\"hasil: \", sum)"
      ],
      "metadata": {
        "colab": {
          "base_uri": "https://localhost:8080/"
        },
        "id": "qil_k2HLnUbQ",
        "outputId": "f5a3cc41-75fe-45f0-a000-b3f08fb24e18"
      },
      "execution_count": null,
      "outputs": [
        {
          "output_type": "stream",
          "name": "stdout",
          "text": [
            "6\n",
            "hasil:  6\n",
            "5\n",
            "hasil:  11\n",
            "3\n",
            "hasil:  14\n",
            "8\n",
            "hasil:  22\n",
            "4\n",
            "hasil:  26\n",
            "2\n",
            "hasil:  28\n"
          ]
        }
      ]
    },
    {
      "cell_type": "markdown",
      "source": [
        "# while Loop\n",
        "While Loop Statement digunakan untuk melakukan iterasi kumpulan data selama kondisinya terpenuhi."
      ],
      "metadata": {
        "id": "Vny5H-skRgoq"
      }
    },
    {
      "cell_type": "code",
      "source": [
        "i = 1\n",
        "while i < 5:\n",
        "    print('i is: {}'.format(i))\n",
        "    i = i+1"
      ],
      "metadata": {
        "colab": {
          "base_uri": "https://localhost:8080/"
        },
        "id": "YES257AuRqNM",
        "outputId": "5bc4ac6c-074d-4b3c-af32-7083bcb2650e"
      },
      "execution_count": null,
      "outputs": [
        {
          "output_type": "stream",
          "name": "stdout",
          "text": [
            "i is: 1\n",
            "i is: 2\n",
            "i is: 3\n",
            "i is: 4\n"
          ]
        }
      ]
    },
    {
      "cell_type": "code",
      "source": [
        "n = 2\n",
        "\n",
        "while(n <= 15):\n",
        "  print(n)\n",
        "  n += 1"
      ],
      "metadata": {
        "colab": {
          "base_uri": "https://localhost:8080/"
        },
        "id": "pQ22TA4wnBN-",
        "outputId": "57abb3f7-5a32-4bec-f36e-2ad6ca28b230"
      },
      "execution_count": null,
      "outputs": [
        {
          "output_type": "stream",
          "name": "stdout",
          "text": [
            "2\n",
            "3\n",
            "4\n",
            "5\n",
            "6\n",
            "7\n",
            "8\n",
            "9\n",
            "10\n",
            "11\n",
            "12\n",
            "13\n",
            "14\n",
            "15\n"
          ]
        }
      ]
    },
    {
      "cell_type": "code",
      "source": [
        "n = 2\n",
        "\n",
        "while(n <= 15):\n",
        "  print(n)\n",
        "  n += 1"
      ],
      "metadata": {
        "colab": {
          "base_uri": "https://localhost:8080/"
        },
        "id": "UDTdQ5pFa6QN",
        "outputId": "b6ef8f9a-1e5b-416c-9870-32b621e832e8"
      },
      "execution_count": null,
      "outputs": [
        {
          "output_type": "stream",
          "name": "stdout",
          "text": [
            "2\n",
            "3\n",
            "4\n",
            "5\n",
            "6\n",
            "7\n",
            "8\n",
            "9\n",
            "10\n",
            "11\n",
            "12\n",
            "13\n",
            "14\n",
            "15\n"
          ]
        }
      ]
    },
    {
      "cell_type": "markdown",
      "source": [
        "# Break Statement\n",
        "Untuk menghentikan suatu perulangan"
      ],
      "metadata": {
        "id": "EurVCPL3brBn"
      }
    },
    {
      "cell_type": "code",
      "source": [
        "for val in \"binar\":\n",
        "    print(val)\n",
        "    if val == \"a\":\n",
        "        break"
      ],
      "metadata": {
        "colab": {
          "base_uri": "https://localhost:8080/"
        },
        "id": "wjwOr49Tb0zS",
        "outputId": "f1c30abb-3e00-4964-8bad-2e30aaeca930"
      },
      "execution_count": null,
      "outputs": [
        {
          "output_type": "stream",
          "name": "stdout",
          "text": [
            "b\n",
            "i\n",
            "n\n",
            "a\n"
          ]
        }
      ]
    },
    {
      "cell_type": "markdown",
      "source": [
        "# Continue Statement\n",
        "Continue Statement digunakan untuk melakukan skip suatu code"
      ],
      "metadata": {
        "id": "Cc1QIioBb5eU"
      }
    },
    {
      "cell_type": "code",
      "source": [
        "for val in \"binar\":\n",
        "    if val == \"a\":\n",
        "        continue\n",
        "    print(val)"
      ],
      "metadata": {
        "colab": {
          "base_uri": "https://localhost:8080/"
        },
        "id": "vZyVLXzqb4Bg",
        "outputId": "b9de33cc-df61-4d8e-c205-cfbe5d796b93"
      },
      "execution_count": null,
      "outputs": [
        {
          "output_type": "stream",
          "name": "stdout",
          "text": [
            "b\n",
            "i\n",
            "n\n",
            "r\n"
          ]
        }
      ]
    },
    {
      "cell_type": "markdown",
      "source": [
        "# Pass Statement"
      ],
      "metadata": {
        "id": "6EjhYLLkcD3P"
      }
    },
    {
      "cell_type": "code",
      "source": [
        "sequence = ['a', 'b', 'c']\n",
        "for val in sequence:\n",
        "  if val == 'c':\n",
        "    print(\"oke\")\n",
        "  else:\n",
        "    pass"
      ],
      "metadata": {
        "colab": {
          "base_uri": "https://localhost:8080/"
        },
        "id": "SFswoOFRcG3F",
        "outputId": "941d64f4-1211-48d7-b32b-d41fa7b2ab6d"
      },
      "execution_count": null,
      "outputs": [
        {
          "output_type": "stream",
          "name": "stdout",
          "text": [
            "oke\n"
          ]
        }
      ]
    },
    {
      "cell_type": "markdown",
      "source": [
        "# Function"
      ],
      "metadata": {
        "id": "FTknlTKSSqNx"
      }
    },
    {
      "cell_type": "markdown",
      "source": [
        "Sebuah kumpulan script untuk spesifik task"
      ],
      "metadata": {
        "id": "qHS8tMgjpc18"
      }
    },
    {
      "cell_type": "code",
      "source": [
        "def fungsi_saya(parameter_1 = 'abc'):\n",
        "    \"\"\"\n",
        "    Docstring.\n",
        "    Penjelasan lebih detail mengenai parameter.\n",
        "    \"\"\"\n",
        "    print(parameter_1)\n",
        "\n",
        "fungsi_saya()"
      ],
      "metadata": {
        "colab": {
          "base_uri": "https://localhost:8080/"
        },
        "id": "3BiJ_MsDSt0a",
        "outputId": "2336cfbe-b49d-4de2-c47c-be28db5c32c3"
      },
      "execution_count": null,
      "outputs": [
        {
          "output_type": "stream",
          "name": "stdout",
          "text": [
            "abc\n"
          ]
        }
      ]
    },
    {
      "cell_type": "code",
      "source": [
        "fungsi_saya(123)"
      ],
      "metadata": {
        "colab": {
          "base_uri": "https://localhost:8080/"
        },
        "id": "6L4SjNXIS1xo",
        "outputId": "dcfc45b1-b083-423a-ebe5-938f0a8ba4c4"
      },
      "execution_count": null,
      "outputs": [
        {
          "output_type": "stream",
          "name": "stdout",
          "text": [
            "123\n"
          ]
        }
      ]
    },
    {
      "cell_type": "code",
      "source": [
        "def ages():\n",
        "  print(25)\n",
        "  print(26)\n",
        "\n",
        "def names():\n",
        "  print(\"ari\")\n",
        "  print(\"tino\")"
      ],
      "metadata": {
        "id": "R2pMk8Mnyl3p"
      },
      "execution_count": null,
      "outputs": []
    },
    {
      "cell_type": "markdown",
      "source": [
        "**Fungsi Tanpa Parameter**"
      ],
      "metadata": {
        "id": "tgzXeZXPyKYU"
      }
    },
    {
      "cell_type": "code",
      "source": [
        "def add_numbers():\n",
        "  sum = 1 + 2\n",
        "  return sum\n",
        "\n",
        "\n",
        "add_numbers()"
      ],
      "metadata": {
        "colab": {
          "base_uri": "https://localhost:8080/"
        },
        "id": "GWcVP303pzPF",
        "outputId": "4ddab8e6-18c3-4908-a2dc-6a590b6cb829"
      },
      "execution_count": null,
      "outputs": [
        {
          "output_type": "execute_result",
          "data": {
            "text/plain": [
              "3"
            ]
          },
          "metadata": {},
          "execution_count": 5
        }
      ]
    },
    {
      "cell_type": "markdown",
      "source": [
        "**Fungsi Dengan Parameter**"
      ],
      "metadata": {
        "id": "T7TbeI5Bp6BX"
      }
    },
    {
      "cell_type": "code",
      "source": [
        "def add_numbers(a, b):\n",
        "  sum = a + b\n",
        "  return sum\n",
        "\n",
        "add_numbers(1, 2)"
      ],
      "metadata": {
        "colab": {
          "base_uri": "https://localhost:8080/"
        },
        "id": "NHgRvdgVp3ns",
        "outputId": "a4716a40-fe5e-444b-9c28-fe4ee3564536"
      },
      "execution_count": null,
      "outputs": [
        {
          "output_type": "execute_result",
          "data": {
            "text/plain": [
              "3"
            ]
          },
          "metadata": {},
          "execution_count": 6
        }
      ]
    },
    {
      "cell_type": "markdown",
      "source": [
        "**Fungsi Dengan Default Parameter**"
      ],
      "metadata": {
        "id": "jUXFeNS5w2hc"
      }
    },
    {
      "cell_type": "code",
      "source": [
        "def add_numbers(a=1, b=2):\n",
        "  sum = a + b\n",
        "  return sum"
      ],
      "metadata": {
        "id": "2agRSZGCw6mt"
      },
      "execution_count": null,
      "outputs": []
    },
    {
      "cell_type": "code",
      "source": [
        "add_numbers(3, 3)"
      ],
      "metadata": {
        "colab": {
          "base_uri": "https://localhost:8080/"
        },
        "id": "tRKF_nl3xDQT",
        "outputId": "6c703455-1c0c-4ffb-bfa0-d525ca3b8d5c"
      },
      "execution_count": null,
      "outputs": [
        {
          "output_type": "execute_result",
          "data": {
            "text/plain": [
              "6"
            ]
          },
          "metadata": {},
          "execution_count": 102
        }
      ]
    },
    {
      "cell_type": "markdown",
      "source": [
        "# Ekspresi lambda"
      ],
      "metadata": {
        "id": "ZaU3lfhnTVBH"
      }
    },
    {
      "cell_type": "markdown",
      "source": [
        "Fungsi yang tidak memiliki nama"
      ],
      "metadata": {
        "id": "bHDUZ4BDpKP1"
      }
    },
    {
      "cell_type": "code",
      "source": [
        "def times_2(variable_1):\n",
        "    return variable_1*2"
      ],
      "metadata": {
        "id": "gfZZoA9wTWtQ"
      },
      "execution_count": null,
      "outputs": []
    },
    {
      "cell_type": "code",
      "source": [
        "times_2(1234)"
      ],
      "metadata": {
        "colab": {
          "base_uri": "https://localhost:8080/"
        },
        "id": "ZfewFlq1TacS",
        "outputId": "07b5e1da-7929-4980-9ee3-b815087fd866"
      },
      "execution_count": null,
      "outputs": [
        {
          "output_type": "execute_result",
          "data": {
            "text/plain": [
              "2468"
            ]
          },
          "metadata": {},
          "execution_count": 100
        }
      ]
    },
    {
      "cell_type": "code",
      "source": [
        "times2_1 = lambda variable_1: variable_1*2"
      ],
      "metadata": {
        "id": "lMbo_dYoTcI3"
      },
      "execution_count": null,
      "outputs": []
    },
    {
      "cell_type": "code",
      "source": [
        "times2_1(1234)"
      ],
      "metadata": {
        "colab": {
          "base_uri": "https://localhost:8080/"
        },
        "id": "r93WlLHxTgzp",
        "outputId": "ad79fb2b-d5bf-4286-a05c-2747c1d78609"
      },
      "execution_count": null,
      "outputs": [
        {
          "output_type": "execute_result",
          "data": {
            "text/plain": [
              "2468"
            ]
          },
          "metadata": {},
          "execution_count": 102
        }
      ]
    },
    {
      "cell_type": "markdown",
      "source": [
        "#File I/O\n",
        "File I/O perintah dalam Python yang digunakan ketika berhubungan dengan file. Diantaranya:\n",
        "\n",
        "Write File\n",
        "Open File"
      ],
      "metadata": {
        "id": "Ov5odCdpcQIK"
      }
    },
    {
      "cell_type": "markdown",
      "source": [
        "**Write**"
      ],
      "metadata": {
        "id": "HYAXQtGzcgJc"
      }
    },
    {
      "cell_type": "code",
      "source": [
        "with open(\"names.txt\",'w',encoding = 'utf-8') as f:\n",
        "   f.write(\"Ari\\n\")\n",
        "   f.write(\"Dino\\n\")\n",
        "   f.write(\"Dono\\n\")"
      ],
      "metadata": {
        "id": "Z4JDsSRecWcc"
      },
      "execution_count": null,
      "outputs": []
    },
    {
      "cell_type": "markdown",
      "source": [
        "**Read**"
      ],
      "metadata": {
        "id": "ZYX-osz6cjhM"
      }
    },
    {
      "cell_type": "code",
      "source": [
        "f = open(\"names.txt\",'r',encoding = 'utf-8')\n",
        "print(f.read())"
      ],
      "metadata": {
        "colab": {
          "base_uri": "https://localhost:8080/"
        },
        "id": "A1ETMoF3cZt9",
        "outputId": "296b062d-fc31-454f-dc18-2762d3068029"
      },
      "execution_count": null,
      "outputs": [
        {
          "output_type": "stream",
          "name": "stdout",
          "text": [
            "Ari\n",
            "Dino\n",
            "Dono\n",
            "\n"
          ]
        }
      ]
    }
  ]
}