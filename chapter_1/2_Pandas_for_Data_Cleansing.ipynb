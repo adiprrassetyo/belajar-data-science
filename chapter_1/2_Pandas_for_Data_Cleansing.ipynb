{
  "cells": [
    {
      "cell_type": "markdown",
      "metadata": {
        "id": "3hWpH_FQ4cm4"
      },
      "source": [
        "# Modul 2 : Pandas for Data Cleansing\n",
        "\n",
        "in this module, we will work with pandas to do data Analysis and data Cleansing\n",
        "\n",
        "---\n",
        "\n",
        "to install pandas (if not yet installed)\n",
        "```python\n",
        "pip install pandas\n",
        "```\n",
        "Then usuallly when we import pandas, we rename it to **pd** to make is shorter\n",
        "\n",
        "```python\n",
        "import pandas as pd\n",
        "```\n",
        "\n",
        "After importing pandas, now we are ready to work with DataFrame\n",
        "\n",
        "## Create DataFrame from dictionary\n",
        "\n",
        "```python\n",
        "# Create dictionary of students\n",
        "students = {\n",
        "    'first_name':['Muhammad', 'Anton', 'Budi', 'Tantri'],\n",
        "    'last_name':['Cecep', 'Doraemon', 'Bohim', 'Nunung'],\n",
        "    'daily_test':[90,0,75,40],\n",
        "    'semester_test':[60,68,82,90]\n",
        "}\n",
        "# To Create dataframe from dictionary, we use\n",
        "data_students = pd.DataFrame(students)\n",
        "```"
      ]
    },
    {
      "cell_type": "code",
      "execution_count": null,
      "metadata": {
        "id": "4vqwjTZe4coL"
      },
      "outputs": [],
      "source": [
        "# Import pandas here\n"
      ]
    },
    {
      "cell_type": "code",
      "execution_count": null,
      "metadata": {
        "id": "7skz6Hx64coN"
      },
      "outputs": [],
      "source": []
    },
    {
      "cell_type": "code",
      "execution_count": null,
      "metadata": {
        "id": "GjNzdip64coO"
      },
      "outputs": [],
      "source": []
    },
    {
      "cell_type": "code",
      "execution_count": null,
      "metadata": {
        "id": "wdWmhRm44coO"
      },
      "outputs": [],
      "source": [
        "# check data_students data type here\n"
      ]
    },
    {
      "cell_type": "markdown",
      "metadata": {
        "id": "_Dmy7oOR4coP"
      },
      "source": [
        "## Add new rows to datafame\n",
        "\n",
        "Same with list, to add new rows, we use `.append()` method\n",
        "\n",
        "```python\n",
        "df.append({\n",
        "    'first_name','Mamang',\n",
        "    'last_name':'Prasetyo',\n",
        "    'daily_test':80\n",
        "    'semester_test':95\n",
        "    })"
      ]
    },
    {
      "cell_type": "code",
      "execution_count": null,
      "metadata": {
        "id": "rQiJCAqd4coT"
      },
      "outputs": [],
      "source": []
    },
    {
      "cell_type": "code",
      "execution_count": null,
      "metadata": {
        "id": "7JgINUs94coU"
      },
      "outputs": [],
      "source": []
    },
    {
      "cell_type": "markdown",
      "metadata": {
        "id": "e1zi-75_4coU"
      },
      "source": [
        "## Check DataFrame Characteristics\n",
        "\n",
        "```python\n",
        "# To check dataframe size (rows, columns)\n",
        "df.shape\n",
        "\n",
        "# Only rows\n",
        "len(df)\n",
        "\n",
        "# Check DataType each column\n",
        "df.info()\n",
        "\n",
        "# Get column names\n",
        "df.columns\n",
        "```"
      ]
    },
    {
      "cell_type": "code",
      "execution_count": null,
      "metadata": {
        "id": "tlNXZjNe4coV"
      },
      "outputs": [],
      "source": []
    },
    {
      "cell_type": "code",
      "execution_count": null,
      "metadata": {
        "id": "pOQp8n314coW"
      },
      "outputs": [],
      "source": []
    },
    {
      "cell_type": "code",
      "execution_count": null,
      "metadata": {
        "id": "Auad9OoX4coX"
      },
      "outputs": [],
      "source": []
    },
    {
      "cell_type": "code",
      "execution_count": null,
      "metadata": {
        "id": "XkBeQIT94coX"
      },
      "outputs": [],
      "source": []
    },
    {
      "cell_type": "code",
      "execution_count": null,
      "metadata": {
        "id": "gDWG_Xnw4coY"
      },
      "outputs": [],
      "source": []
    },
    {
      "cell_type": "markdown",
      "metadata": {
        "id": "LO78PQQq4coZ"
      },
      "source": [
        "## Indexing Dataframe\n",
        "### Selecting Columns\n",
        "From the dataframe, to select only one column, you can use `dataframe['column_name']`\n",
        "\n",
        "**Exercise :**\n",
        "\n",
        "From dataframe **students** select only column _first_name_ ,save it as `variable` **student_first_name**"
      ]
    },
    {
      "cell_type": "code",
      "execution_count": null,
      "metadata": {
        "id": "sUGWRMQU4coa"
      },
      "outputs": [],
      "source": []
    },
    {
      "cell_type": "markdown",
      "metadata": {
        "id": "iZjexmyw4coa"
      },
      "source": [
        "**What is Datatype of _student_first_name_ ?**"
      ]
    },
    {
      "cell_type": "code",
      "execution_count": null,
      "metadata": {
        "id": "lXGagD8C4cob"
      },
      "outputs": [],
      "source": []
    },
    {
      "cell_type": "markdown",
      "metadata": {
        "id": "uqU1wOGU4coc"
      },
      "source": [
        "**What is the difference of `dataframe['column_name']` and `dataframe[['column_name']]` ?**"
      ]
    },
    {
      "cell_type": "code",
      "execution_count": null,
      "metadata": {
        "id": "HIp2S-FZ4coc"
      },
      "outputs": [],
      "source": []
    },
    {
      "cell_type": "code",
      "execution_count": null,
      "metadata": {
        "id": "r06n7IyP4cod"
      },
      "outputs": [],
      "source": []
    },
    {
      "cell_type": "markdown",
      "metadata": {
        "id": "ZzBRdu6n4cod"
      },
      "source": [
        "**What if we want to select multiple column ?**\n",
        "\n",
        "**Exercise :**\n",
        "\n",
        "From dataframe, select column _last_name_ and _semester_test_ !"
      ]
    },
    {
      "cell_type": "code",
      "execution_count": null,
      "metadata": {
        "id": "RyQZHxm34coe"
      },
      "outputs": [],
      "source": []
    },
    {
      "cell_type": "code",
      "execution_count": null,
      "metadata": {
        "id": "VKtryyAS4coe"
      },
      "outputs": [],
      "source": []
    },
    {
      "cell_type": "markdown",
      "metadata": {
        "id": "Wu5mOAar4cof"
      },
      "source": [
        "### Selecting Rows\n",
        "To select rows from dataframe, we can use list indexing `dataframe[row_number:row_number_after]`\n",
        "\n",
        "Using this scenario, we can also select multiple row by using `dataframe[start_row:end_row]`\n",
        "\n",
        "_Example :_\n",
        "```\n",
        "# Select first 2 row\n",
        "dataframe[:2]\n",
        "\n",
        "# Select first 3 row\n",
        "dataframe[-3:]\n",
        "```\n",
        "**Exercise :**\n",
        "\n",
        "From dataframe **class_score** select row number 2 !"
      ]
    },
    {
      "cell_type": "code",
      "execution_count": null,
      "metadata": {
        "id": "dt3ERCe_4cof"
      },
      "outputs": [],
      "source": []
    },
    {
      "cell_type": "code",
      "execution_count": null,
      "metadata": {
        "id": "Ce1UpU7y4cog"
      },
      "outputs": [],
      "source": []
    },
    {
      "cell_type": "markdown",
      "metadata": {
        "id": "_rfOMzSr4coi"
      },
      "source": [
        "### Getting value from Column and row\n",
        "From previous lesson in basic python, we already learn multiple indices. For example in nested list below :\n",
        "```\n",
        "my_list = [4, 3, ['a', 'c']]\n",
        "```\n",
        "Extracting value **'a'** from `my_list` above we use `my_list[2][0]`.\n",
        "\n",
        "Similar to Dataframe, we can also slicing dataframe using same method.\n",
        "\n",
        "**Note :**\n",
        "\n",
        "Remember, Dataframe formed from **dictionary**, to get value from _dictionary_ we use **`'key'`** value instead of _integer index value_.\n",
        "Same with selecting column.\n",
        "\n",
        "In this case we use :\n",
        "```\n",
        "dataframe['column_name'][row_number]\n",
        "```"
      ]
    },
    {
      "cell_type": "code",
      "execution_count": null,
      "metadata": {
        "id": "UdLbzqpQ4coj"
      },
      "outputs": [],
      "source": []
    },
    {
      "cell_type": "code",
      "execution_count": null,
      "metadata": {
        "id": "7u6LbH2H4cok"
      },
      "outputs": [],
      "source": []
    },
    {
      "cell_type": "markdown",
      "metadata": {
        "id": "DkcD5RDC4cok"
      },
      "source": [
        "**Exercise :**\n",
        "\n",
        "From dataframe, Get `daily_test` of `Cecep` !"
      ]
    },
    {
      "cell_type": "code",
      "execution_count": null,
      "metadata": {
        "id": "BRarsbz94col"
      },
      "outputs": [],
      "source": []
    },
    {
      "cell_type": "code",
      "execution_count": null,
      "metadata": {
        "id": "Um_r8gas4col"
      },
      "outputs": [],
      "source": []
    },
    {
      "cell_type": "markdown",
      "metadata": {
        "id": "em8Kqei54com"
      },
      "source": [
        "## Filter Condition\n",
        "### Find Value\n",
        "To Filter using condition we can use `dataframe['column'] conditional_clause value`\n",
        "\n",
        "Conditional clause can be :\n",
        "```\n",
        "==\n",
        ">\n",
        ">=\n",
        "<\n",
        "<=\n",
        "!=\n",
        "```\n",
        "Let's say from dataframe **class_score**, we want to know **How many student achieve `score` equal or More than 80**, we can use `dataframe['score'] >= 80`\n",
        "\n",
        "**Practice here :**"
      ]
    },
    {
      "cell_type": "code",
      "execution_count": null,
      "metadata": {
        "id": "2IXQUGKT4com"
      },
      "outputs": [],
      "source": []
    },
    {
      "cell_type": "code",
      "execution_count": null,
      "metadata": {
        "id": "UybTYY9V4con"
      },
      "outputs": [],
      "source": []
    },
    {
      "cell_type": "code",
      "execution_count": null,
      "metadata": {
        "id": "hnkj7VGj4con"
      },
      "outputs": [],
      "source": []
    },
    {
      "cell_type": "code",
      "execution_count": null,
      "metadata": {
        "id": "dOkuto0P4coo"
      },
      "outputs": [],
      "source": []
    },
    {
      "cell_type": "markdown",
      "metadata": {
        "id": "7Wsh-98H4cop"
      },
      "source": [
        "### Multiple Condition\n",
        "**Exercise :**\n",
        "\n",
        "From dataframe **class_score**, we want to know **Student that achieve `daily_test` less than 90 BUT, having semester_test more than 80**"
      ]
    },
    {
      "cell_type": "code",
      "execution_count": null,
      "metadata": {
        "id": "Da7w1E4h4coq"
      },
      "outputs": [],
      "source": []
    },
    {
      "cell_type": "code",
      "execution_count": null,
      "metadata": {
        "id": "fr78qpom4coq"
      },
      "outputs": [],
      "source": []
    },
    {
      "cell_type": "code",
      "execution_count": null,
      "metadata": {
        "id": "P4SFtICM4cor"
      },
      "outputs": [],
      "source": []
    },
    {
      "cell_type": "markdown",
      "metadata": {
        "id": "4DkxxXz34cos"
      },
      "source": [
        "#### Exercise\n",
        "**Filter only Anton and Budi**\n",
        "\n",
        "_hint :_ using (filter 1) | (filter 2)"
      ]
    },
    {
      "cell_type": "code",
      "execution_count": null,
      "metadata": {
        "id": "is1266Ay4cot"
      },
      "outputs": [],
      "source": []
    },
    {
      "cell_type": "code",
      "execution_count": null,
      "metadata": {
        "id": "mrVkOJyL4cot"
      },
      "outputs": [],
      "source": []
    },
    {
      "cell_type": "markdown",
      "metadata": {
        "id": "houQiFwn4cou"
      },
      "source": [
        "#### Using is in list\n",
        "\n",
        "**Filter only Anton, Tantri and Budi**\n",
        "\n",
        "_hint :_ create list filter, then data[column].isin(filter)"
      ]
    },
    {
      "cell_type": "code",
      "execution_count": null,
      "metadata": {
        "id": "O_3hnjpj4cou"
      },
      "outputs": [],
      "source": []
    },
    {
      "cell_type": "code",
      "execution_count": null,
      "metadata": {
        "id": "wfgBIaOj4cov"
      },
      "outputs": [],
      "source": []
    },
    {
      "cell_type": "markdown",
      "metadata": {
        "id": "5XcLmvdf4cov"
      },
      "source": [
        "## Add new column to dataframe\n",
        "\n",
        "using `df['new_column'] = [new_data1, new_data2, new_data3]`\n",
        "\n",
        "Add new column of `attendance` = all 100 except Cecep which only 70, and Mamang only 65"
      ]
    },
    {
      "cell_type": "code",
      "execution_count": null,
      "metadata": {
        "id": "SHeLD1tN4cow"
      },
      "outputs": [],
      "source": []
    },
    {
      "cell_type": "code",
      "execution_count": null,
      "metadata": {
        "id": "Gd-WECMI4cox"
      },
      "outputs": [],
      "source": []
    },
    {
      "cell_type": "code",
      "execution_count": null,
      "metadata": {
        "id": "Qj2P4DOo4coy"
      },
      "outputs": [],
      "source": []
    },
    {
      "cell_type": "markdown",
      "metadata": {
        "id": "O66LPAoh4coz"
      },
      "source": [
        "## Sorting Data\n",
        "Gunakan `.sort_values()`\n",
        "\n",
        "sample:\n",
        "\n",
        "```\n",
        "df.sort_values('name', ascending=False)\n",
        "```"
      ]
    },
    {
      "cell_type": "code",
      "execution_count": null,
      "metadata": {
        "id": "Ek51qN8J4co4"
      },
      "outputs": [],
      "source": []
    },
    {
      "cell_type": "code",
      "execution_count": null,
      "metadata": {
        "id": "9bNLP2WP4co4"
      },
      "outputs": [],
      "source": []
    },
    {
      "cell_type": "markdown",
      "metadata": {
        "id": "sHXMNFDf4co5"
      },
      "source": [
        "### Exercise\n",
        "create new variable dataframe `remedial` which only have student which semester_test below 85, sort based on daily test lower to higher\n",
        "\n"
      ]
    },
    {
      "cell_type": "code",
      "execution_count": null,
      "metadata": {
        "id": "KS4OWmas4co6"
      },
      "outputs": [],
      "source": []
    },
    {
      "cell_type": "code",
      "execution_count": null,
      "metadata": {
        "id": "4aMXnVqP4co6"
      },
      "outputs": [],
      "source": []
    },
    {
      "cell_type": "code",
      "execution_count": null,
      "metadata": {
        "id": "a-Lwin7e4co7"
      },
      "outputs": [],
      "source": []
    },
    {
      "cell_type": "markdown",
      "metadata": {
        "id": "7M2zrUpR4co7"
      },
      "source": [
        "\n",
        "**Save filtered Data above to csv**\n",
        "\n",
        "using function `.to_csv()` with index=False\n",
        "\n",
        "```python\n",
        "df.to_csv('namafile_export.csv', index=False)\n",
        "```"
      ]
    },
    {
      "cell_type": "code",
      "execution_count": null,
      "metadata": {
        "id": "IoO-4NUC4co8"
      },
      "outputs": [],
      "source": []
    },
    {
      "cell_type": "code",
      "execution_count": null,
      "metadata": {
        "id": "-lP-9l1D4co9"
      },
      "outputs": [],
      "source": []
    },
    {
      "cell_type": "markdown",
      "metadata": {
        "id": "sdlPrJQP4co-"
      },
      "source": [
        "Compare with `.to_csv()` without index = False"
      ]
    },
    {
      "cell_type": "code",
      "execution_count": null,
      "metadata": {
        "id": "fm7qj7zQ4co_"
      },
      "outputs": [],
      "source": []
    },
    {
      "cell_type": "code",
      "execution_count": null,
      "metadata": {
        "id": "ZLbN8Jnl4co_"
      },
      "outputs": [],
      "source": []
    },
    {
      "cell_type": "markdown",
      "metadata": {
        "id": "21aWogf14cpA"
      },
      "source": [
        "Save to excel format with `.to_excel('namafile.xlsx')`"
      ]
    },
    {
      "cell_type": "code",
      "execution_count": null,
      "metadata": {
        "id": "J13z6WB-4cpA"
      },
      "outputs": [],
      "source": []
    },
    {
      "cell_type": "markdown",
      "metadata": {
        "id": "hedPa_194cpB"
      },
      "source": [
        "## Load data from files\n",
        "\n",
        "to read file from csv\n",
        "```\n",
        "dataframe = pd.read_csv('path/to/file.csv')\n",
        "```\n",
        "\n",
        "---\n",
        "\n",
        "download `data_pokemon.csv` from classroom,\n",
        "\n",
        "upload the files to colab, or place in the same folder (if jupyter)\n",
        "\n",
        "\n",
        "**To do:**\n",
        "\n",
        "read **pokemon.csv**"
      ]
    },
    {
      "cell_type": "code",
      "execution_count": null,
      "metadata": {
        "id": "-yH47Qfc4cpF"
      },
      "outputs": [],
      "source": []
    },
    {
      "cell_type": "code",
      "execution_count": null,
      "metadata": {
        "id": "dWfsbFaA4cpH"
      },
      "outputs": [],
      "source": []
    },
    {
      "cell_type": "markdown",
      "metadata": {
        "id": "Gg7sXL6b4cpI"
      },
      "source": [
        "## Show Part of the data\n",
        "\n",
        "Showing full of the data may causing the screen is not good looking and heavier, since the data may having very long row.\n",
        "\n",
        "To show only begining of data, you can use `.head()` and `.tail()` for only showing last row of data"
      ]
    },
    {
      "cell_type": "code",
      "execution_count": null,
      "metadata": {
        "id": "ef20I-Am4cpK"
      },
      "outputs": [],
      "source": []
    },
    {
      "cell_type": "code",
      "execution_count": null,
      "metadata": {
        "id": "isoeZK_84cpO"
      },
      "outputs": [],
      "source": []
    },
    {
      "cell_type": "code",
      "execution_count": null,
      "metadata": {
        "id": "31BH8Rxn4cpQ"
      },
      "outputs": [],
      "source": []
    },
    {
      "cell_type": "code",
      "execution_count": null,
      "metadata": {
        "id": "YmVm_UAf4cpQ"
      },
      "outputs": [],
      "source": []
    },
    {
      "cell_type": "markdown",
      "metadata": {
        "id": "TQD8hqPT4cpS"
      },
      "source": [
        "Did you notice, how many rows are showed using those function ?\n",
        "How if you want to see some certain first rows of the data ?\n",
        "\n",
        "**Practice :**\n",
        "*Show first 4 value of the data !*"
      ]
    },
    {
      "cell_type": "code",
      "execution_count": null,
      "metadata": {
        "id": "gF8O17KP4cpV"
      },
      "outputs": [],
      "source": []
    },
    {
      "cell_type": "code",
      "execution_count": null,
      "metadata": {
        "id": "cppcu9T24cpZ"
      },
      "outputs": [],
      "source": []
    },
    {
      "cell_type": "markdown",
      "metadata": {
        "id": "BlJA8lot4cpa"
      },
      "source": [
        "Cek jumlah data dengan Print kalimat berikut:\n",
        "```python\n",
        "\"Data kita memiliki : {} baris dan {} kolom\"\n",
        "```"
      ]
    },
    {
      "cell_type": "code",
      "execution_count": null,
      "metadata": {
        "id": "lmjVySfA4cpb"
      },
      "outputs": [],
      "source": []
    },
    {
      "cell_type": "code",
      "execution_count": null,
      "metadata": {
        "id": "oAyr5oXU4cpb"
      },
      "outputs": [],
      "source": []
    },
    {
      "cell_type": "markdown",
      "metadata": {
        "id": "MHdNJhPV4cph"
      },
      "source": [
        "**To Do**\n",
        "Inspect Data type of pokemon dataframe"
      ]
    },
    {
      "cell_type": "code",
      "execution_count": null,
      "metadata": {
        "id": "riBm54Zj4cpi"
      },
      "outputs": [],
      "source": []
    },
    {
      "cell_type": "markdown",
      "metadata": {
        "id": "vWeVEt6r4cpk"
      },
      "source": [
        "### Unique Value Inspection\n",
        "\n",
        "to get unique values from column, we use `df['column'].unique()`\n",
        "\n",
        "and to get number of unique value from column, we use `df['column'].nunique()`\n",
        "\n",
        "**To Do:**\n",
        "\n",
        "1. Show unique value of Pokemon Type 1\n",
        "2. How many unique value Pokemon name"
      ]
    },
    {
      "cell_type": "code",
      "execution_count": null,
      "metadata": {
        "id": "9OeJyE1F4cqB"
      },
      "outputs": [],
      "source": []
    },
    {
      "cell_type": "code",
      "execution_count": null,
      "metadata": {
        "id": "oJ1Op3N_4cqH"
      },
      "outputs": [],
      "source": []
    },
    {
      "cell_type": "code",
      "execution_count": null,
      "metadata": {
        "id": "SsPtlVOJ4cqI"
      },
      "outputs": [],
      "source": []
    },
    {
      "cell_type": "markdown",
      "metadata": {
        "id": "MT8oOzhb4cqI"
      },
      "source": [
        "## Statistical Operation on DataFrame\n",
        "\n",
        "### Get Descriptive Statistics of dataframe\n",
        "\n",
        "```python\n",
        "# To get Statistics from DataFrame\n",
        "df.describe()\n",
        "```"
      ]
    },
    {
      "cell_type": "code",
      "execution_count": null,
      "metadata": {
        "id": "C13g3lEC4cqJ"
      },
      "outputs": [],
      "source": []
    },
    {
      "cell_type": "code",
      "execution_count": null,
      "metadata": {
        "id": "8oM6Dg2h4cqP"
      },
      "outputs": [],
      "source": []
    },
    {
      "cell_type": "markdown",
      "metadata": {
        "id": "hgR-jbIz4cqQ"
      },
      "source": [
        "### Calculation on dataframe\n",
        "\n",
        "```python\n",
        "# to get sum total\n",
        "df['column'].sum()\n",
        "\n",
        "# to get maximum from column\n",
        "df['column'].max()\n",
        "\n",
        "# to get minimum from column\n",
        "df['column'].min()\n",
        "\n",
        "# to get average from column\n",
        "df['column'].mean()\n",
        "```"
      ]
    },
    {
      "cell_type": "code",
      "execution_count": null,
      "metadata": {
        "id": "za5dRcgk4cqQ"
      },
      "outputs": [],
      "source": []
    },
    {
      "cell_type": "code",
      "execution_count": null,
      "metadata": {
        "id": "pfHKVxc04cqR"
      },
      "outputs": [],
      "source": []
    },
    {
      "cell_type": "code",
      "execution_count": null,
      "metadata": {
        "id": "8dIYYaPL4cqX"
      },
      "outputs": [],
      "source": []
    },
    {
      "cell_type": "markdown",
      "metadata": {
        "id": "-Xt3XcLg4cqX"
      },
      "source": [
        "\n",
        "**Answer this question:**\n",
        "\n",
        "1. What is Pokemon name that has Highest Attack\n",
        "2. What Pokemon Type (Type 1) that has highest speed\n",
        "3. How many Average Defense of pokemon which has type 1 = Dragon\n",
        "4. How many Legendary Pokemon that can fly ? *(hint, type 2)*\n",
        "5. Which one of pokemon type 1 that has highest average Attack Speed (Sp. Atk) ? Water of Fire pokemon ?"
      ]
    },
    {
      "cell_type": "code",
      "execution_count": null,
      "metadata": {
        "id": "Ren5Lp-T4cqY"
      },
      "outputs": [],
      "source": []
    },
    {
      "cell_type": "code",
      "execution_count": null,
      "metadata": {
        "id": "yiu1q7Mz4cqZ"
      },
      "outputs": [],
      "source": []
    },
    {
      "cell_type": "code",
      "execution_count": null,
      "metadata": {
        "id": "XRkLxkL_4cqf"
      },
      "outputs": [],
      "source": []
    },
    {
      "cell_type": "code",
      "execution_count": null,
      "metadata": {
        "id": "kTamqhbo4cqg"
      },
      "outputs": [],
      "source": []
    },
    {
      "cell_type": "code",
      "execution_count": null,
      "metadata": {
        "id": "ss_Y43Iq4cqh"
      },
      "outputs": [],
      "source": []
    },
    {
      "cell_type": "markdown",
      "metadata": {
        "id": "6ICe_rgN4cqh"
      },
      "source": [
        "## Missing Value on the data\n",
        "\n",
        "```python\n",
        "# To check missing values/ null value from data\n",
        "df.isna().sum()\n",
        "\n",
        "# or same with\n",
        "df.isnull().sum()\n",
        "```\n",
        "\n",
        "**To Do:**\n",
        "\n",
        "What column from pokemon has missing data ?, total how many data that was missing ?"
      ]
    },
    {
      "cell_type": "code",
      "execution_count": null,
      "metadata": {
        "id": "GjV81hX94cqt"
      },
      "outputs": [],
      "source": []
    },
    {
      "cell_type": "code",
      "execution_count": null,
      "metadata": {
        "id": "VdCSNihW4cqu"
      },
      "outputs": [],
      "source": []
    },
    {
      "cell_type": "code",
      "execution_count": null,
      "metadata": {
        "id": "qXyhAyFX4cqv"
      },
      "outputs": [],
      "source": []
    },
    {
      "cell_type": "markdown",
      "metadata": {
        "id": "O31HrobJ4cqv"
      },
      "source": [
        "## Cleaning Missing Value from the data\n",
        "\n",
        "### Dropping missing values\n",
        "```python\n",
        "# Use dropna to drop the missing values\n",
        "df.dropna()\n",
        "```\n",
        "### Filling Missing Data with constant values\n",
        "```python\n",
        "# Use fillna to fill the missing values\n",
        "fill_value = 0\n",
        "df.fillna(fill_value)\n",
        "```\n",
        "\n",
        "### Filling with method\n",
        "Fillna function has built in method to fill the missing value, like `{'backfill', 'bfill', 'pad', 'ffill'}`\n",
        "\n",
        "**To Do:** check `fillna()` help function and discover what are thos method function\n",
        "\n"
      ]
    },
    {
      "cell_type": "code",
      "execution_count": null,
      "metadata": {
        "id": "9-vt8SEU4cq1"
      },
      "outputs": [],
      "source": []
    },
    {
      "cell_type": "code",
      "execution_count": null,
      "metadata": {
        "id": "h3wz4J6Y4cq2"
      },
      "outputs": [],
      "source": []
    },
    {
      "cell_type": "code",
      "execution_count": null,
      "metadata": {
        "id": "4tqbje5E4cq7"
      },
      "outputs": [],
      "source": []
    },
    {
      "cell_type": "code",
      "execution_count": null,
      "metadata": {
        "id": "ktR-xmC54cq9"
      },
      "outputs": [],
      "source": []
    },
    {
      "cell_type": "code",
      "execution_count": null,
      "metadata": {
        "id": "EBqm9Kyi4cq9"
      },
      "outputs": [],
      "source": []
    },
    {
      "cell_type": "code",
      "execution_count": null,
      "metadata": {
        "id": "3O0rjKxV4crD"
      },
      "outputs": [],
      "source": []
    },
    {
      "cell_type": "markdown",
      "metadata": {
        "id": "7n9UOqYO4crE"
      },
      "source": [
        "---\n",
        "\n",
        "## Bonus Material\n",
        "\n",
        "### Read Json Data\n",
        "to read json to dataframe, use\n",
        "```python\n",
        "# download sample json_data_sample.json from google classroom\n",
        "json_data = pd.read_json('json_data_sample.json')\n",
        "```\n",
        "\n",
        "### Read SQLite Data\n",
        "Download data.db from Google Classroom\n",
        "\n",
        "```python\n",
        "# Pandas cannot directly read SQL, so we need to create connection using sqlite3 library\n",
        "import sqlite3\n",
        "\n",
        "conn = sqlite3.connect('data.db')\n",
        "df = pd.read_sql('SELECT * FROM tweets', conn)\n",
        "```"
      ]
    },
    {
      "cell_type": "code",
      "execution_count": null,
      "metadata": {
        "id": "4fEid9OC4crF"
      },
      "outputs": [],
      "source": []
    }
  ],
  "metadata": {
    "kernelspec": {
      "display_name": "Python 3.9.5 ('base')",
      "language": "python",
      "name": "python3"
    },
    "language_info": {
      "codemirror_mode": {
        "name": "ipython",
        "version": 3
      },
      "file_extension": ".py",
      "mimetype": "text/x-python",
      "name": "python",
      "nbconvert_exporter": "python",
      "pygments_lexer": "ipython3",
      "version": "3.9.5"
    },
    "orig_nbformat": 4,
    "vscode": {
      "interpreter": {
        "hash": "bbe054f82611da69a236c20d185807936886c22cfa3db0ebeb109fb4db8ace57"
      }
    },
    "colab": {
      "provenance": []
    }
  },
  "nbformat": 4,
  "nbformat_minor": 0
}