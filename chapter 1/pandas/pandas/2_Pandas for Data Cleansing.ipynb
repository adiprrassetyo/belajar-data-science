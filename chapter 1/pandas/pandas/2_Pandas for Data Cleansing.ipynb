{
 "cells": [
  {
   "cell_type": "markdown",
   "metadata": {},
   "source": [
    "# Modul 2 : Pandas for Data Cleansing\n",
    "\n",
    "in this module, we will work with pandas to do data Analysis and data Cleansing\n",
    "\n",
    "---\n",
    "\n",
    "to install pandas (if not yet installed)\n",
    "```python\n",
    "pip install pandas\n",
    "```\n",
    "Then usuallly when we import pandas, we rename it to **pd** to make is shorter\n",
    "\n",
    "```python\n",
    "import pandas as pd\n",
    "```\n",
    "\n",
    "After importing pandas, now we are ready to work with DataFrame\n",
    "\n",
    "## Create DataFrame from dictionary\n",
    "\n",
    "```python\n",
    "# Create dictionary of students\n",
    "students = {\n",
    "    'first_name':['Muhammad', 'Anton', 'Budi', 'Tantri'],\n",
    "    'last_name':['Cecep', 'Doraemon', 'Bohim', 'Nunung'],\n",
    "    'daily_test':[90,0,75,40],\n",
    "    'semester_test':[60,68,82,90]\n",
    "}\n",
    "# To Create dataframe from dictionary, we use\n",
    "data_students = pd.DataFrame(students)\n",
    "```"
   ]
  },
  {
   "cell_type": "code",
   "execution_count": null,
   "metadata": {},
   "outputs": [],
   "source": [
    "# Import pandas here\n"
   ]
  },
  {
   "cell_type": "code",
   "execution_count": null,
   "metadata": {},
   "outputs": [],
   "source": []
  },
  {
   "cell_type": "code",
   "execution_count": null,
   "metadata": {},
   "outputs": [],
   "source": []
  },
  {
   "cell_type": "code",
   "execution_count": null,
   "metadata": {},
   "outputs": [],
   "source": [
    "# check data_students data type here\n"
   ]
  },
  {
   "cell_type": "markdown",
   "metadata": {},
   "source": [
    "## Add new rows to datafame\n",
    "\n",
    "Same with list, to add new rows, we use `.append()` method\n",
    "\n",
    "```python\n",
    "df.append({\n",
    "    'first_name','Mamang', \n",
    "    'last_name':'Prasetyo', \n",
    "    'daily_test':80\n",
    "    'semester_test':95\n",
    "    })"
   ]
  },
  {
   "cell_type": "code",
   "execution_count": null,
   "metadata": {},
   "outputs": [],
   "source": []
  },
  {
   "cell_type": "code",
   "execution_count": null,
   "metadata": {},
   "outputs": [],
   "source": []
  },
  {
   "cell_type": "markdown",
   "metadata": {},
   "source": [
    "## Check DataFrame Characteristics\n",
    "\n",
    "```python\n",
    "# To check dataframe size (rows, columns)\n",
    "df.shape\n",
    "\n",
    "# Only rows\n",
    "len(df)\n",
    "\n",
    "# Check DataType each column\n",
    "df.info()\n",
    "\n",
    "# Get column names\n",
    "df.columns\n",
    "```"
   ]
  },
  {
   "cell_type": "code",
   "execution_count": null,
   "metadata": {},
   "outputs": [],
   "source": []
  },
  {
   "cell_type": "code",
   "execution_count": null,
   "metadata": {},
   "outputs": [],
   "source": []
  },
  {
   "cell_type": "code",
   "execution_count": null,
   "metadata": {},
   "outputs": [],
   "source": []
  },
  {
   "cell_type": "code",
   "execution_count": null,
   "metadata": {},
   "outputs": [],
   "source": []
  },
  {
   "cell_type": "code",
   "execution_count": null,
   "metadata": {},
   "outputs": [],
   "source": []
  },
  {
   "cell_type": "markdown",
   "metadata": {},
   "source": [
    "## Indexing Dataframe\n",
    "### Selecting Columns\n",
    "From the dataframe, to select only one column, you can use `dataframe['column_name']`\n",
    "\n",
    "**Exercise :** \n",
    "\n",
    "From dataframe **students** select only column _first_name_ ,save it as `variable` **student_first_name**"
   ]
  },
  {
   "cell_type": "code",
   "execution_count": null,
   "metadata": {},
   "outputs": [],
   "source": []
  },
  {
   "cell_type": "markdown",
   "metadata": {},
   "source": [
    "**What is Datatype of _student_first_name_ ?**"
   ]
  },
  {
   "cell_type": "code",
   "execution_count": null,
   "metadata": {},
   "outputs": [],
   "source": []
  },
  {
   "cell_type": "markdown",
   "metadata": {},
   "source": [
    "**What is the difference of `dataframe['column_name']` and `dataframe[['column_name']]` ?**"
   ]
  },
  {
   "cell_type": "code",
   "execution_count": null,
   "metadata": {},
   "outputs": [],
   "source": []
  },
  {
   "cell_type": "code",
   "execution_count": null,
   "metadata": {},
   "outputs": [],
   "source": []
  },
  {
   "cell_type": "markdown",
   "metadata": {},
   "source": [
    "**What if we want to select multiple column ?**\n",
    "\n",
    "**Exercise :**\n",
    "\n",
    "From dataframe, select column _last_name_ and _semester_test_ !"
   ]
  },
  {
   "cell_type": "code",
   "execution_count": null,
   "metadata": {},
   "outputs": [],
   "source": []
  },
  {
   "cell_type": "code",
   "execution_count": null,
   "metadata": {},
   "outputs": [],
   "source": []
  },
  {
   "cell_type": "markdown",
   "metadata": {},
   "source": [
    "### Selecting Rows\n",
    "To select rows from dataframe, we can use list indexing `dataframe[row_number:row_number_after]`\n",
    "\n",
    "Using this scenario, we can also select multiple row by using `dataframe[start_row:end_row]`\n",
    "\n",
    "_Example :_\n",
    "```\n",
    "# Select first 2 row\n",
    "dataframe[:2]\n",
    "\n",
    "# Select first 3 row\n",
    "dataframe[-3:]\n",
    "```\n",
    "**Exercise :**\n",
    "\n",
    "From dataframe **class_score** select row number 2 !"
   ]
  },
  {
   "cell_type": "code",
   "execution_count": null,
   "metadata": {},
   "outputs": [],
   "source": []
  },
  {
   "cell_type": "code",
   "execution_count": null,
   "metadata": {},
   "outputs": [],
   "source": []
  },
  {
   "cell_type": "markdown",
   "metadata": {},
   "source": [
    "### Getting value from Column and row\n",
    "From previous lesson in basic python, we already learn multiple indices. For example in nested list below :\n",
    "```\n",
    "my_list = [4, 3, ['a', 'c']]\n",
    "```\n",
    "Extracting value **'a'** from `my_list` above we use `my_list[2][0]`.\n",
    "\n",
    "Similar to Dataframe, we can also slicing dataframe using same method.\n",
    "\n",
    "**Note :**\n",
    "\n",
    "Remember, Dataframe formed from **dictionary**, to get value from _dictionary_ we use **`'key'`** value instead of _integer index value_.\n",
    "Same with selecting column.\n",
    "\n",
    "In this case we use :\n",
    "```\n",
    "dataframe['column_name'][row_number]\n",
    "```"
   ]
  },
  {
   "cell_type": "code",
   "execution_count": null,
   "metadata": {},
   "outputs": [],
   "source": []
  },
  {
   "cell_type": "code",
   "execution_count": null,
   "metadata": {},
   "outputs": [],
   "source": []
  },
  {
   "cell_type": "markdown",
   "metadata": {},
   "source": [
    "**Exercise :**\n",
    "\n",
    "From dataframe, Get `daily_test` of `Cecep` !"
   ]
  },
  {
   "cell_type": "code",
   "execution_count": null,
   "metadata": {},
   "outputs": [],
   "source": []
  },
  {
   "cell_type": "code",
   "execution_count": null,
   "metadata": {},
   "outputs": [],
   "source": []
  },
  {
   "cell_type": "markdown",
   "metadata": {},
   "source": [
    "## Filter Condition\n",
    "### Find Value\n",
    "To Filter using condition we can use `dataframe['column'] conditional_clause value`\n",
    "\n",
    "Conditional clause can be :\n",
    "```\n",
    "==\n",
    ">\n",
    ">=\n",
    "<\n",
    "<=\n",
    "!=\n",
    "```\n",
    "Let's say from dataframe **class_score**, we want to know **How many student achieve `score` equal or More than 80**, we can use `dataframe['score'] >= 80`\n",
    "\n",
    "**Practice here :**"
   ]
  },
  {
   "cell_type": "code",
   "execution_count": null,
   "metadata": {},
   "outputs": [],
   "source": []
  },
  {
   "cell_type": "code",
   "execution_count": null,
   "metadata": {},
   "outputs": [],
   "source": []
  },
  {
   "cell_type": "code",
   "execution_count": null,
   "metadata": {},
   "outputs": [],
   "source": []
  },
  {
   "cell_type": "code",
   "execution_count": null,
   "metadata": {},
   "outputs": [],
   "source": []
  },
  {
   "cell_type": "markdown",
   "metadata": {},
   "source": [
    "### Multiple Condition\n",
    "**Exercise :**\n",
    "\n",
    "From dataframe **class_score**, we want to know **Student that achieve `daily_test` less than 90 BUT, having semester_test more than 80**"
   ]
  },
  {
   "cell_type": "code",
   "execution_count": null,
   "metadata": {},
   "outputs": [],
   "source": []
  },
  {
   "cell_type": "code",
   "execution_count": null,
   "metadata": {},
   "outputs": [],
   "source": []
  },
  {
   "cell_type": "code",
   "execution_count": null,
   "metadata": {},
   "outputs": [],
   "source": []
  },
  {
   "cell_type": "markdown",
   "metadata": {},
   "source": [
    "#### Exercise\n",
    "**Filter only Anton and Budi**\n",
    "\n",
    "_hint :_ using (filter 1) | (filter 2)"
   ]
  },
  {
   "cell_type": "code",
   "execution_count": null,
   "metadata": {},
   "outputs": [],
   "source": []
  },
  {
   "cell_type": "code",
   "execution_count": null,
   "metadata": {},
   "outputs": [],
   "source": []
  },
  {
   "cell_type": "markdown",
   "metadata": {},
   "source": [
    "#### Using is in list\n",
    "\n",
    "**Filter only Anton, Tantri and Budi**\n",
    "\n",
    "_hint :_ create list filter, then data[column].isin(filter)"
   ]
  },
  {
   "cell_type": "code",
   "execution_count": null,
   "metadata": {},
   "outputs": [],
   "source": []
  },
  {
   "cell_type": "code",
   "execution_count": null,
   "metadata": {},
   "outputs": [],
   "source": []
  },
  {
   "cell_type": "markdown",
   "metadata": {},
   "source": [
    "## Add new column to dataframe\n",
    "\n",
    "using `df['new_column'] = [new_data1, new_data2, new_data3]`\n",
    "\n",
    "Add new column of `attendance` = all 100 except Cecep which only 70, and Mamang only 65"
   ]
  },
  {
   "cell_type": "code",
   "execution_count": null,
   "metadata": {},
   "outputs": [],
   "source": []
  },
  {
   "cell_type": "code",
   "execution_count": null,
   "metadata": {},
   "outputs": [],
   "source": []
  },
  {
   "cell_type": "code",
   "execution_count": null,
   "metadata": {},
   "outputs": [],
   "source": []
  },
  {
   "cell_type": "markdown",
   "metadata": {},
   "source": [
    "## Sorting Data\n",
    "Gunakan `.sort_values()`\n",
    "\n",
    "sample:\n",
    "\n",
    "```\n",
    "df.sort_values('name', ascending=False)\n",
    "```"
   ]
  },
  {
   "cell_type": "code",
   "execution_count": null,
   "metadata": {},
   "outputs": [],
   "source": []
  },
  {
   "cell_type": "code",
   "execution_count": null,
   "metadata": {},
   "outputs": [],
   "source": []
  },
  {
   "cell_type": "markdown",
   "metadata": {},
   "source": [
    "### Exercise\n",
    "create new variable dataframe `remedial` which only have student which semester_test below 85, sort based on daily test lower to higher\n",
    "\n"
   ]
  },
  {
   "cell_type": "code",
   "execution_count": null,
   "metadata": {},
   "outputs": [],
   "source": []
  },
  {
   "cell_type": "code",
   "execution_count": null,
   "metadata": {},
   "outputs": [],
   "source": []
  },
  {
   "cell_type": "code",
   "execution_count": null,
   "metadata": {},
   "outputs": [],
   "source": []
  },
  {
   "cell_type": "markdown",
   "metadata": {},
   "source": [
    "\n",
    "**Save filtered Data above to csv**\n",
    "\n",
    "using function `.to_csv()` with index=False\n",
    "\n",
    "```python\n",
    "df.to_csv('namafile_export.csv', index=False)\n",
    "```"
   ]
  },
  {
   "cell_type": "code",
   "execution_count": null,
   "metadata": {},
   "outputs": [],
   "source": []
  },
  {
   "cell_type": "code",
   "execution_count": null,
   "metadata": {},
   "outputs": [],
   "source": []
  },
  {
   "cell_type": "markdown",
   "metadata": {},
   "source": [
    "Compare with `.to_csv()` without index = False"
   ]
  },
  {
   "cell_type": "code",
   "execution_count": null,
   "metadata": {},
   "outputs": [],
   "source": []
  },
  {
   "cell_type": "code",
   "execution_count": null,
   "metadata": {},
   "outputs": [],
   "source": []
  },
  {
   "cell_type": "markdown",
   "metadata": {},
   "source": [
    "Save to excel format with `.to_excel('namafile.xlsx')`"
   ]
  },
  {
   "cell_type": "code",
   "execution_count": null,
   "metadata": {},
   "outputs": [],
   "source": []
  },
  {
   "cell_type": "markdown",
   "metadata": {},
   "source": [
    "## Load data from files\n",
    "\n",
    "to read file from csv\n",
    "```\n",
    "dataframe = pd.read_csv('path/to/file.csv')\n",
    "```\n",
    "\n",
    "---\n",
    "\n",
    "download `data_pokemon.csv` from classroom,\n",
    "\n",
    "upload the files to colab, or place in the same folder (if jupyter)\n",
    "\n",
    "\n",
    "**To do:**\n",
    "\n",
    "read **pokemon.csv**"
   ]
  },
  {
   "cell_type": "code",
   "execution_count": null,
   "metadata": {},
   "outputs": [],
   "source": []
  },
  {
   "cell_type": "code",
   "execution_count": null,
   "metadata": {},
   "outputs": [],
   "source": []
  },
  {
   "cell_type": "markdown",
   "metadata": {},
   "source": [
    "## Show Part of the data\n",
    "\n",
    "Showing full of the data may causing the screen is not good looking and heavier, since the data may having very long row.\n",
    "\n",
    "To show only begining of data, you can use `.head()` and `.tail()` for only showing last row of data"
   ]
  },
  {
   "cell_type": "code",
   "execution_count": null,
   "metadata": {},
   "outputs": [],
   "source": []
  },
  {
   "cell_type": "code",
   "execution_count": null,
   "metadata": {},
   "outputs": [],
   "source": []
  },
  {
   "cell_type": "code",
   "execution_count": null,
   "metadata": {},
   "outputs": [],
   "source": []
  },
  {
   "cell_type": "code",
   "execution_count": 2,
   "metadata": {},
   "outputs": [],
   "source": []
  },
  {
   "cell_type": "markdown",
   "metadata": {},
   "source": [
    "Did you notice, how many rows are showed using those function ?\n",
    "How if you want to see some certain first rows of the data ?\n",
    "\n",
    "**Practice :**\n",
    "*Show first 4 value of the data !*"
   ]
  },
  {
   "cell_type": "code",
   "execution_count": null,
   "metadata": {},
   "outputs": [],
   "source": []
  },
  {
   "cell_type": "code",
   "execution_count": null,
   "metadata": {},
   "outputs": [],
   "source": []
  },
  {
   "cell_type": "markdown",
   "metadata": {},
   "source": [
    "Cek jumlah data dengan Print kalimat berikut:\n",
    "```python\n",
    "\"Data kita memiliki : {} baris dan {} kolom\"\n",
    "```"
   ]
  },
  {
   "cell_type": "code",
   "execution_count": null,
   "metadata": {},
   "outputs": [],
   "source": []
  },
  {
   "cell_type": "code",
   "execution_count": null,
   "metadata": {},
   "outputs": [],
   "source": []
  },
  {
   "cell_type": "markdown",
   "metadata": {},
   "source": [
    "**To Do**\n",
    "Inspect Data type of pokemon dataframe"
   ]
  },
  {
   "cell_type": "code",
   "execution_count": null,
   "metadata": {},
   "outputs": [],
   "source": []
  },
  {
   "cell_type": "markdown",
   "metadata": {},
   "source": [
    "### Unique Value Inspection\n",
    "\n",
    "to get unique values from column, we use `df['column'].unique()`\n",
    "\n",
    "and to get number of unique value from column, we use `df['column'].nunique()`\n",
    "\n",
    "**To Do:** \n",
    "\n",
    "1. Show unique value of Pokemon Type 1\n",
    "2. How many unique value Pokemon name"
   ]
  },
  {
   "cell_type": "code",
   "execution_count": null,
   "metadata": {},
   "outputs": [],
   "source": []
  },
  {
   "cell_type": "code",
   "execution_count": null,
   "metadata": {},
   "outputs": [],
   "source": []
  },
  {
   "cell_type": "code",
   "execution_count": null,
   "metadata": {},
   "outputs": [],
   "source": []
  },
  {
   "cell_type": "markdown",
   "metadata": {},
   "source": [
    "## Statistical Operation on DataFrame\n",
    "\n",
    "### Get Descriptive Statistics of dataframe\n",
    "\n",
    "```python\n",
    "# To get Statistics from DataFrame \n",
    "df.describe()\n",
    "```"
   ]
  },
  {
   "cell_type": "code",
   "execution_count": null,
   "metadata": {},
   "outputs": [],
   "source": []
  },
  {
   "cell_type": "code",
   "execution_count": null,
   "metadata": {},
   "outputs": [],
   "source": []
  },
  {
   "cell_type": "markdown",
   "metadata": {},
   "source": [
    "### Calculation on dataframe\n",
    "\n",
    "```python\n",
    "# to get sum total\n",
    "df['column'].sum()\n",
    "\n",
    "# to get maximum from column\n",
    "df['column'].max()\n",
    "\n",
    "# to get minimum from column\n",
    "df['column'].min()\n",
    "\n",
    "# to get average from column\n",
    "df['column'].mean()\n",
    "```"
   ]
  },
  {
   "cell_type": "code",
   "execution_count": null,
   "metadata": {},
   "outputs": [],
   "source": []
  },
  {
   "cell_type": "code",
   "execution_count": null,
   "metadata": {},
   "outputs": [],
   "source": []
  },
  {
   "cell_type": "code",
   "execution_count": null,
   "metadata": {},
   "outputs": [],
   "source": []
  },
  {
   "cell_type": "markdown",
   "metadata": {},
   "source": [
    "\n",
    "**Answer this question:**\n",
    "\n",
    "1. What is Pokemon name that has Highest Attack\n",
    "2. What Pokemon Type (Type 1) that has highest speed\n",
    "3. How many Average Defense of pokemon which has type 1 = Dragon\n",
    "4. How many Legendary Pokemon that can fly ? *(hint, type 2)*\n",
    "5. Which one of pokemon type 1 that has highest average Attack Speed (Sp. Atk) ? Water of Fire pokemon ?"
   ]
  },
  {
   "cell_type": "code",
   "execution_count": null,
   "metadata": {},
   "outputs": [],
   "source": []
  },
  {
   "cell_type": "code",
   "execution_count": null,
   "metadata": {},
   "outputs": [],
   "source": []
  },
  {
   "cell_type": "code",
   "execution_count": null,
   "metadata": {},
   "outputs": [],
   "source": []
  },
  {
   "cell_type": "code",
   "execution_count": null,
   "metadata": {},
   "outputs": [],
   "source": []
  },
  {
   "cell_type": "code",
   "execution_count": null,
   "metadata": {},
   "outputs": [],
   "source": []
  },
  {
   "cell_type": "markdown",
   "metadata": {},
   "source": [
    "## Missing Value on the data\n",
    "\n",
    "```python\n",
    "# To check missing values/ null value from data\n",
    "df.isna().sum()\n",
    "\n",
    "# or same with\n",
    "df.isnull().sum()\n",
    "```\n",
    "\n",
    "**To Do:**\n",
    "\n",
    "What column from pokemon has missing data ?, total how many data that was missing ?"
   ]
  },
  {
   "cell_type": "code",
   "execution_count": null,
   "metadata": {},
   "outputs": [],
   "source": []
  },
  {
   "cell_type": "code",
   "execution_count": null,
   "metadata": {},
   "outputs": [],
   "source": []
  },
  {
   "cell_type": "code",
   "execution_count": null,
   "metadata": {},
   "outputs": [],
   "source": []
  },
  {
   "cell_type": "markdown",
   "metadata": {},
   "source": [
    "## Cleaning Missing Value from the data\n",
    "\n",
    "### Dropping missing values\n",
    "```python\n",
    "# Use dropna to drop the missing values\n",
    "df.dropna()\n",
    "```\n",
    "### Filling Missing Data with constant values\n",
    "```python\n",
    "# Use fillna to fill the missing values\n",
    "fill_value = 0\n",
    "df.fillna(fill_value)\n",
    "```\n",
    "\n",
    "### Filling with method\n",
    "Fillna function has built in method to fill the missing value, like `{'backfill', 'bfill', 'pad', 'ffill'}`\n",
    "\n",
    "**To Do:** check `fillna()` help function and discover what are thos method function\n",
    "\n"
   ]
  },
  {
   "cell_type": "code",
   "execution_count": null,
   "metadata": {},
   "outputs": [],
   "source": []
  },
  {
   "cell_type": "code",
   "execution_count": null,
   "metadata": {},
   "outputs": [],
   "source": []
  },
  {
   "cell_type": "code",
   "execution_count": null,
   "metadata": {},
   "outputs": [],
   "source": []
  },
  {
   "cell_type": "code",
   "execution_count": null,
   "metadata": {},
   "outputs": [],
   "source": []
  },
  {
   "cell_type": "code",
   "execution_count": null,
   "metadata": {},
   "outputs": [],
   "source": []
  },
  {
   "cell_type": "code",
   "execution_count": null,
   "metadata": {},
   "outputs": [],
   "source": []
  },
  {
   "cell_type": "markdown",
   "metadata": {},
   "source": [
    "---\n",
    "\n",
    "## Bonus Material \n",
    "\n",
    "### Read Json Data\n",
    "to read json to dataframe, use\n",
    "```python\n",
    "# download sample json_data_sample.json from google classroom\n",
    "json_data = pd.read_json('json_data_sample.json')\n",
    "```\n",
    "\n",
    "### Read SQLite Data\n",
    "Download data.db from Google Classroom\n",
    "\n",
    "```python\n",
    "# Pandas cannot directly read SQL, so we need to create connection using sqlite3 library\n",
    "import sqlite3\n",
    "\n",
    "conn = sqlite3.connect('data.db')\n",
    "df = pd.read_sql('SELECT * FROM tweets', conn)\n",
    "```"
   ]
  },
  {
   "cell_type": "code",
   "execution_count": null,
   "metadata": {},
   "outputs": [],
   "source": []
  }
 ],
 "metadata": {
  "kernelspec": {
   "display_name": "Python 3.9.5 ('base')",
   "language": "python",
   "name": "python3"
  },
  "language_info": {
   "codemirror_mode": {
    "name": "ipython",
    "version": 3
   },
   "file_extension": ".py",
   "mimetype": "text/x-python",
   "name": "python",
   "nbconvert_exporter": "python",
   "pygments_lexer": "ipython3",
   "version": "3.9.5"
  },
  "orig_nbformat": 4,
  "vscode": {
   "interpreter": {
    "hash": "bbe054f82611da69a236c20d185807936886c22cfa3db0ebeb109fb4db8ace57"
   }
  }
 },
 "nbformat": 4,
 "nbformat_minor": 2
}
