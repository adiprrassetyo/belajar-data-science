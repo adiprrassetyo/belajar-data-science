{
 "cells": [
  {
   "cell_type": "markdown",
   "metadata": {},
   "source": [
    "# Regular Expression for Pattern Searching\n",
    "\n",
    "---\n",
    "\n",
    "Regular Expression or RegEx is a sequence of characters that specifies a search pattern in text. Usually such patterns are used by string-searching algorithms for \"find\" or \"find and replace\" operations on strings, or for input validation. Regular expression techniques are developed in theoretical computer science and formal language theory.\n",
    "\n",
    "https://en.wikipedia.org/wiki/Regular_expression"
   ]
  },
  {
   "cell_type": "code",
   "execution_count": 1,
   "metadata": {},
   "outputs": [],
   "source": [
    "# Import Regex in python\n",
    "import re"
   ]
  },
  {
   "cell_type": "code",
   "execution_count": 2,
   "metadata": {},
   "outputs": [
    {
     "name": "stdout",
     "output_type": "stream",
     "text": [
      "Halo, Saya sedang belajar bahasa pemrograman Python. Python adalah bahasa pemrograman yang sangat mudah dipelajari.\n"
     ]
    }
   ],
   "source": [
    "# Sample sentence\n",
    "kalimat = \"Halo, Saya sedang belajar bahasa pemrograman Python. Python adalah bahasa pemrograman yang sangat mudah dipelajari.\"\n",
    "print(kalimat)"
   ]
  },
  {
   "cell_type": "markdown",
   "metadata": {},
   "source": [
    "## Split Sentence by using build in string method\n",
    "\n",
    "```python\n",
    "# create separator, then apply .split() method\n",
    "separator = ' ' \n",
    "kalimat.split(separator)\n",
    "```"
   ]
  },
  {
   "cell_type": "code",
   "execution_count": 3,
   "metadata": {},
   "outputs": [],
   "source": [
    "# Split sentence into words by space\n"
   ]
  },
  {
   "cell_type": "code",
   "execution_count": 4,
   "metadata": {},
   "outputs": [],
   "source": [
    "# Split sentence into words by punctuation (.,)\n",
    "\n"
   ]
  },
  {
   "cell_type": "markdown",
   "metadata": {},
   "source": [
    "## Using RegEx to split by space\n",
    "```python\n",
    "re.split('[ ]', kalimat)\n",
    "\n",
    "# or simply\n",
    "re.split(' ', kalimat)\n",
    "```"
   ]
  },
  {
   "cell_type": "code",
   "execution_count": 5,
   "metadata": {},
   "outputs": [],
   "source": [
    "# Split sentence into words by space\n"
   ]
  },
  {
   "cell_type": "code",
   "execution_count": null,
   "metadata": {},
   "outputs": [],
   "source": []
  },
  {
   "cell_type": "code",
   "execution_count": 6,
   "metadata": {},
   "outputs": [],
   "source": [
    "# Split sentence into words by punctuation (.,)\n",
    "\n"
   ]
  },
  {
   "cell_type": "code",
   "execution_count": 7,
   "metadata": {},
   "outputs": [
    {
     "name": "stdout",
     "output_type": "stream",
     "text": [
      "\n",
      "Halo, Saya sedang belajar bahasa pemrograman Python. \n",
      "Python adalah bahasa pemrograman yang sangat mudah dipelajari.\n",
      "Selain itu, Python juga memiliki banyak library yang dapat digunakan untuk keperluan data science.\n",
      "\n"
     ]
    }
   ],
   "source": [
    "multiline_paragraph = \"\"\"\n",
    "Halo, Saya sedang belajar bahasa pemrograman Python. \n",
    "Python adalah bahasa pemrograman yang sangat mudah dipelajari.\n",
    "Selain itu, Python juga memiliki banyak library yang dapat digunakan untuk keperluan data science.\n",
    "\"\"\"\n",
    "print(multiline_paragraph)"
   ]
  },
  {
   "cell_type": "code",
   "execution_count": 8,
   "metadata": {},
   "outputs": [],
   "source": [
    "# Split multiline paragraph into sentences by new line\n",
    "\n"
   ]
  },
  {
   "cell_type": "markdown",
   "metadata": {},
   "source": [
    "## Finding pattern matches using Findall and Search"
   ]
  },
  {
   "cell_type": "code",
   "execution_count": 9,
   "metadata": {},
   "outputs": [
    {
     "name": "stdout",
     "output_type": "stream",
     "text": [
      "\n",
      "101 COM   Computers\n",
      "205 MAT   Mathematics\n",
      "189 ENG   English\n",
      "\n"
     ]
    }
   ],
   "source": [
    "matkul = \"\"\"\n",
    "101 COM   Computers\n",
    "205 MAT   Mathematics\n",
    "189 ENG   English\n",
    "\"\"\" \n",
    "print(matkul)"
   ]
  },
  {
   "cell_type": "markdown",
   "metadata": {},
   "source": [
    "To find pattern from text using regex, we use `findall()`\n",
    "```python\n",
    "# Need to compile pattern first before searching\n",
    "pattern = re.compile('\\d')\n",
    "pattern.findall(matkul)\n",
    "```"
   ]
  },
  {
   "cell_type": "code",
   "execution_count": 10,
   "metadata": {},
   "outputs": [],
   "source": [
    "# Find all matkul number using \\d\n"
   ]
  },
  {
   "cell_type": "code",
   "execution_count": 11,
   "metadata": {},
   "outputs": [],
   "source": [
    "# Find all matkul number using 0-9\n"
   ]
  },
  {
   "cell_type": "code",
   "execution_count": 12,
   "metadata": {},
   "outputs": [],
   "source": [
    "# Find all matkul code (3 Characters Capital Letters)\n"
   ]
  },
  {
   "cell_type": "code",
   "execution_count": 13,
   "metadata": {},
   "outputs": [],
   "source": [
    "# Find all matkul number limit only 2 digit\n",
    "\n"
   ]
  },
  {
   "cell_type": "code",
   "execution_count": 14,
   "metadata": {},
   "outputs": [],
   "source": [
    "# Find all matkul name (English, Computers, Mathematics)\n",
    "\n"
   ]
  },
  {
   "cell_type": "markdown",
   "metadata": {},
   "source": [
    "To find position of matching pattern, use `.search()`\n",
    "```python\n",
    "kalimat = 'umur saya 21 tahun`\n",
    "\n",
    "pattern = re.compile('\\d+')\n",
    "search = pattern.search(kalimat)\n",
    "print('Starting Position: ', search.start())\n",
    "print('Ending Position: ', search.end())\n",
    "```"
   ]
  },
  {
   "cell_type": "code",
   "execution_count": null,
   "metadata": {},
   "outputs": [],
   "source": []
  },
  {
   "cell_type": "code",
   "execution_count": null,
   "metadata": {},
   "outputs": [],
   "source": []
  },
  {
   "cell_type": "markdown",
   "metadata": {},
   "source": [
    "### Exercise:\n",
    "by using findall, extract unique email from this text\n",
    "```\n",
    "text_email = \"\"\"\n",
    "From: aryo@binar.com\n",
    "To: TeamBinar@binar.co.id\n",
    "\n",
    "Dear all,\n",
    "Terlampir adalah materi pertemuan minggu ini.\n",
    "bila ada kesulitan, \n",
    "silahkan hubungi Tim Facil di facil@binar.com atau ke saya di aryo@binar.com\n",
    "\n",
    "Regards,\n",
    "Aryo\n",
    "\"\"\"\n",
    "```"
   ]
  },
  {
   "cell_type": "code",
   "execution_count": 15,
   "metadata": {},
   "outputs": [],
   "source": [
    "# Extract the email address from the text\n"
   ]
  },
  {
   "cell_type": "code",
   "execution_count": null,
   "metadata": {},
   "outputs": [],
   "source": []
  },
  {
   "cell_type": "code",
   "execution_count": null,
   "metadata": {},
   "outputs": [],
   "source": []
  },
  {
   "cell_type": "markdown",
   "metadata": {},
   "source": [
    "## Replace Text by using Regex\n",
    "to replace text in regex, we use re.sub()\n",
    "```python\n",
    "# marking phone number from text, by replace it with XXX\n",
    "chat = 'Silahkan hubungi 081567234645 (Pak Rudi) untuk nego dan cek lokasi'\n",
    "re.sub('\\d+', 'XXX', text)\n",
    "```"
   ]
  },
  {
   "cell_type": "code",
   "execution_count": 16,
   "metadata": {},
   "outputs": [],
   "source": [
    "# Practice Here\n",
    "\n"
   ]
  },
  {
   "cell_type": "code",
   "execution_count": 17,
   "metadata": {},
   "outputs": [],
   "source": [
    "# marking phone number from text, by replace it with XXX\n",
    "chat = 'Jl. kenari no 413 harganya Rp.1.750.000 perbulan, Silahkan hubungi 081567234645 (Pak Rudi) untuk cek lokasi'\n",
    "\n"
   ]
  },
  {
   "cell_type": "code",
   "execution_count": null,
   "metadata": {},
   "outputs": [],
   "source": []
  },
  {
   "cell_type": "code",
   "execution_count": null,
   "metadata": {},
   "outputs": [],
   "source": []
  },
  {
   "cell_type": "markdown",
   "metadata": {},
   "source": [
    "### Exercise: \n",
    "```python\n",
    "# marking price, phone number & website from text, by replace it with XXX\n",
    "chat = \"\"\"\n",
    "kondisi mulus gan, harga 2.500.000 nego,\n",
    "chat aja 081567234645 ato klik https://www.tokopedia.com/produk/1234\n",
    "\"\"\"\n",
    "```"
   ]
  },
  {
   "cell_type": "code",
   "execution_count": null,
   "metadata": {},
   "outputs": [],
   "source": []
  }
 ],
 "metadata": {
  "kernelspec": {
   "display_name": "Python 3.9.5 ('base')",
   "language": "python",
   "name": "python3"
  },
  "language_info": {
   "codemirror_mode": {
    "name": "ipython",
    "version": 3
   },
   "file_extension": ".py",
   "mimetype": "text/x-python",
   "name": "python",
   "nbconvert_exporter": "python",
   "pygments_lexer": "ipython3",
   "version": "3.9.5"
  },
  "orig_nbformat": 4,
  "vscode": {
   "interpreter": {
    "hash": "bbe054f82611da69a236c20d185807936886c22cfa3db0ebeb109fb4db8ace57"
   }
  }
 },
 "nbformat": 4,
 "nbformat_minor": 2
}
